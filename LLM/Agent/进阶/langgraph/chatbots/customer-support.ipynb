{
 "cells": [
  {
   "cell_type": "markdown",
   "id": "4c37bb65-6e2c-42e4-bfa7-9df10e2652a0",
   "metadata": {},
   "source": [
    "This example has moved! Check out the [Customer Support Tutorial](../customer-support/customer-support.ipynb) for more information."
   ]
  }
 ],
 "metadata": {
  "kernelspec": {
   "display_name": "Python 3 (ipykernel)",
   "language": "python",
   "name": "python3"
  },
  "language_info": {
   "codemirror_mode": {
    "name": "ipython",
    "version": 3
   },
   "file_extension": ".py",
   "mimetype": "text/x-python",
   "name": "python",
   "nbconvert_exporter": "python",
   "pygments_lexer": "ipython3",
   "version": "3.11.2"
  }
 },
 "nbformat": 4,
 "nbformat_minor": 5
}
