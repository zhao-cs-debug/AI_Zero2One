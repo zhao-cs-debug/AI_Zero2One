{
 "cells": [
  {
   "cell_type": "markdown",
   "id": "f961801a-6025-4b73-be3b-c3a8a75d4167",
   "metadata": {},
   "source": [
    "# (Deprecated) Agent Executor\n",
    "\n",
    "The `create_agent_executor` function is deprecated in favor of [create_react_agent](../chat_agent_executor_with_function_calling/high-level-tools.ipynb).\n",
    "This was done to better align with the underlying model providers' migration from \"function calling\" to \"tool calling\", which typically supports parallel tool usage."
   ]
  },
  {
   "cell_type": "markdown",
   "id": "8aa31ac5",
   "metadata": {},
   "source": []
  }
 ],
 "metadata": {
  "kernelspec": {
   "display_name": "Python 3 (ipykernel)",
   "language": "python",
   "name": "python3"
  },
  "language_info": {
   "codemirror_mode": {
    "name": "ipython",
    "version": 3
   },
   "file_extension": ".py",
   "mimetype": "text/x-python",
   "name": "python",
   "nbconvert_exporter": "python",
   "pygments_lexer": "ipython3",
   "version": "3.11.1"
  }
 },
 "nbformat": 4,
 "nbformat_minor": 5
}
