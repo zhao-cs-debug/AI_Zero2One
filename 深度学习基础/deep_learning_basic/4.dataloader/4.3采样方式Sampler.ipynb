{
 "cells": [
  {
   "cell_type": "markdown",
   "metadata": {},
   "source": [
    "# 所有sampler都是承 torch.utils.data.sampler.Sampler 这个类\n",
    "## 1、顺序采样 SequentialSampler\n",
    "作用 ：接收一个 Dataset 对象，输出数据包中样本量的顺序索引。 \n",
    "### 1）内部代码 "
   ]
  },
  {
   "cell_type": "code",
   "execution_count": null,
   "metadata": {},
   "outputs": [],
   "source": [
    "class SequentialSampler(Sampler):\n",
    "    def __init__(self, data_source):\n",
    "        self.data_source = data_source\n",
    "    def __iter__(self):\n",
    "        return iter(range(len(self.data_source)))\n",
    "    def __len__(self):\n",
    "        return len(self.data_source)\n",
    "\n",
    "# __init__  接收参数：Dataset 对象\n",
    "# __iter__ 返回一个可迭代对象（返回的是索引值），因为 SequentialSampler 是顺序采样，所以返回的索引是顺序数值序列\n",
    "# __len__  返回 dataset 中数据个数"
   ]
  },
  {
   "cell_type": "markdown",
   "metadata": {},
   "source": [
    "### 2）使用举例"
   ]
  },
  {
   "cell_type": "code",
   "execution_count": null,
   "metadata": {},
   "outputs": [],
   "source": [
    "import torch.utils.data.sampler as sampler\n",
    "\n",
    "data = list([17, 22, 3, 41, 8])\n",
    "seq_sampler = sampler.SequentialSampler(data_source=data)\n",
    "\n",
    "for index in seq_sampler:\n",
    "    print(\"index: {}, data: {}\".format(index, data[index]))"
   ]
  },
  {
   "cell_type": "markdown",
   "metadata": {},
   "source": [
    "## 2、随机采样 RandomSampler\n",
    "作用 ：接收一个 Dataset 对象，输出数据包中样本量的随机索引 （可指定是否可重复）。\n",
    "### 1）内部代码 "
   ]
  },
  {
   "cell_type": "code",
   "execution_count": null,
   "metadata": {},
   "outputs": [],
   "source": [
    "class RandomSampler(Sampler):\n",
    "    def __init__(self, data_source, replacement=False, num_samples=None):\n",
    "        self.data_source = data_source\n",
    "        self.replacement = replacement\n",
    "        self._num_samples = num_samples\n",
    "\n",
    "    def num_samples(self):\n",
    "        if self._num_samples is None:\n",
    "            return len(self.data_source)\n",
    "        return self._num_samples\n",
    "\n",
    "    def __len__(self):\n",
    "        return self.num_samples\n",
    "\n",
    "    def __iter__(self):\n",
    "        n = len(self.data_source)\n",
    "        if self.replacement:\n",
    "            # 生成的随机数是可能重复的\n",
    "            return iter(torch.randint(high=n, size=(self.num_samples,), dtype=torch.int64).tolist())\n",
    "        # 生成的随机数是不重复的\n",
    "        return iter(torch.randperm(n).tolist())\n",
    "\n",
    "# 查看 torch.randperm() 的使用 ：\n",
    "# __init__ 参数 ：\n",
    "#   data_source (Dataset): 采样的 Dataset 对象\n",
    "#   replacement (bool): 如果为 True，则抽取的样本是有放回的。默认为 False\n",
    "#   num_samples (int):  抽取样本的数量，默认是len(dataset)。当 replacement 是 True 时，应被实例化\n",
    "# __iter__ 返回一个可迭代对象（返回的是索引），因为 RandomSampler 是随机采样，所以返回的索引是随机的数值序列 （当 replacement=False 时，生成的排列是无重复的）\n",
    "# __len__  返回 dataset 中样本量"
   ]
  },
  {
   "cell_type": "markdown",
   "metadata": {},
   "source": [
    "### 2）使用举例"
   ]
  },
  {
   "cell_type": "code",
   "execution_count": null,
   "metadata": {},
   "outputs": [],
   "source": [
    "import torch.utils.data.sampler as sampler\n",
    "\n",
    "data = list([17, 22, 3, 41, 8])\n",
    "seq_sampler = sampler.RandomSampler(data_source=data)\n",
    "\n",
    "for index in seq_sampler:\n",
    "    print(\"index: {}, data: {}\".format(index, data[index]))"
   ]
  },
  {
   "cell_type": "markdown",
   "metadata": {},
   "source": [
    "## 3、批采样 BatchSampler\n",
    "作用 ：包装另一个采样器以生成一个小批量索引\n",
    "### 1）内部代码 "
   ]
  },
  {
   "cell_type": "code",
   "execution_count": null,
   "metadata": {},
   "outputs": [],
   "source": [
    "class BatchSampler(Sampler):\n",
    "    def __init__(self, sampler, batch_size, drop_last):、\n",
    "        self.sampler = sampler\n",
    "        self.batch_size = batch_size\n",
    "        self.drop_last = drop_last\n",
    "\n",
    "    def __iter__(self):\n",
    "        batch = []\n",
    "        for idx in self.sampler:\n",
    "            batch.append(idx)\n",
    "            # 如果采样个数和batch_size相等则本次采样完成\n",
    "            if len(batch) == self.batch_size:\n",
    "                yield batch\n",
    "                batch = []\n",
    "        # for 结束后在不需要剔除不足batch_size的采样个数时返回当前batch\n",
    "        if len(batch) > 0 and not self.drop_last:\n",
    "            yield batch\n",
    "\n",
    "    def __len__(self):\n",
    "        # 在不进行剔除时，数据的长度就是采样器索引的长度\n",
    "        if self.drop_last:\n",
    "            return len(self.sampler) // self.batch_size\n",
    "        else:\n",
    "            return (len(self.sampler) + self.batch_size - 1) // self.batch_size\n",
    "\n",
    "# 参数 ：\n",
    "# sampler : 其他采样器实例\n",
    "# batch_size ：批量大小\n",
    "# drop_last ：为 “True”时，如果最后一个batch 采样得到的数据个数小于batch_size，则抛弃最后一个batch的数据"
   ]
  },
  {
   "cell_type": "markdown",
   "metadata": {},
   "source": [
    "### 2）使用举例"
   ]
  },
  {
   "cell_type": "code",
   "execution_count": null,
   "metadata": {},
   "outputs": [],
   "source": [
    "import torch.utils.data.sampler as sampler\n",
    "data = list([17, 22, 3, 41, 8])\n",
    "\n",
    "seq_sampler = sampler.SequentialSampler(data_source=data)\n",
    "batch_sampler = sampler.BatchSampler(seq_sampler, 2, False )\n",
    "\n",
    "for index in batch_sampler:\n",
    "    print(index)"
   ]
  },
  {
   "cell_type": "markdown",
   "metadata": {},
   "source": [
    "# 重要说明 \n",
    "如果你在 DataLoader(dataset, batch_sampler=batch_sampler) 中指定了参数 batch_sampler， 那么就不能再指定参数 batch_size、shuffle、sampler、和 drop_last 了，他们互斥。 \n",
    "\n",
    "因为：\n",
    "\n",
    "你在生成torch.utils.data.sampler.BatchSampler() 的时候，就已经制定过  batch_size、sampler、和 drop_last 这些参数了，\n",
    "\n",
    "batch_sampler 与 shuffle 作用一致，所以也互斥\n",
    "\n",
    "比如，如下代码就会报错，因为在 DataLoader 中重复指定了 batch_size"
   ]
  },
  {
   "cell_type": "code",
   "execution_count": null,
   "metadata": {},
   "outputs": [],
   "source": [
    "random_sampler = sampler.RandomSampler(data_source=dataset)\n",
    "batch_sampler = sampler.BatchSampler(random_sampler, batch_size=2, drop_last=False)\n",
    "dataloader1 = DataLoader(dataset, batch_size=2, batch_sampler=batch_sampler)"
   ]
  }
 ],
 "metadata": {
  "language_info": {
   "name": "python"
  }
 },
 "nbformat": 4,
 "nbformat_minor": 2
}
