{
 "cells": [
  {
   "cell_type": "markdown",
   "metadata": {},
   "source": [
    "# 1、图像尺寸变换 与 裁剪\n",
    "## 1）transforms.Resize"
   ]
  },
  {
   "cell_type": "code",
   "execution_count": null,
   "metadata": {},
   "outputs": [],
   "source": [
    "torchvision.transforms.Resize(size,\n",
    "                              interpolation=InterpolationMode.BILINEAR,\n",
    "                              max_size=None)\n",
    "\n",
    "# 作用：将图像按照指定的插值方式，resize到指定的尺寸。\n",
    "# 参数：\n",
    "# size: 输出的图像尺寸。可以是元组 (h, w) ，也可以是单个整数。\n",
    "# 如果 size 是元组，则输出大小将分别匹配 h, w 的大小\n",
    "# 如果 size 是整数，则图像较小的边将被resize 到此数字，并保持宽高比\n",
    "# interpolation: 选用如下插值方法将图像 resize 到输出尺寸\n",
    "# PIL.Image.NEAREST 最近邻差值\n",
    "# PIL.Image.BILINEAR 双线性差值（默认）\n",
    "# PIL.Image.BICUBIC 双三次差值\n",
    "# max_size ：输出图像的较长边的最大值。仅当 size 为单个整数时才支持此功能。如果图像的较长边在根据 size 缩放后大于 max_size，则 size 将被覆盖，使较长边等于 max_size，这时较短边会小于 size。"
   ]
  },
  {
   "cell_type": "code",
   "execution_count": null,
   "metadata": {},
   "outputs": [],
   "source": [
    "# 举例\n",
    "from PIL import Image\n",
    "import torchvision.transforms as transforms\n",
    "import matplotlib.pyplot as plt\n",
    "\n",
    "original_img = Image.open('image.jpg')  # https://p.ipic.vip/7pvisy.jpg\n",
    "print(original_img.size)   # (3280, 1818)\n",
    "\n",
    "img_1 = transforms.Resize(1500, max_size=None)(original_img)\n",
    "print(img_1.size)(2706, 1500)   # (2706, 1500)\n",
    "\n",
    "img_2 = transforms.Resize((1500, 1500))(original_img)\n",
    "print(img_2.size)   # (1500, 1500)\n",
    "\n",
    "img_3 = transforms.Resize(1500, max_size=1600)(original_img)\n",
    "print(img_3.size)   # (1600, 886)\n",
    "\n",
    "\n",
    "plt.subplot(141)\n",
    "plt.axis(\"off\")\n",
    "plt.imshow(original_img)\n",
    "\n",
    "plt.subplot(142)\n",
    "plt.axis(\"off\")\n",
    "plt.imshow(img_1)\n",
    "\n",
    "plt.subplot(143)\n",
    "plt.axis(\"off\")\n",
    "plt.imshow(img_2)\n",
    "\n",
    "plt.subplot(144)\n",
    "plt.axis(\"off\")\n",
    "plt.imshow(img_3)\n",
    "\n",
    "plt.show()"
   ]
  },
  {
   "cell_type": "markdown",
   "metadata": {},
   "source": [
    "## 2）transforms.CenterCrop"
   ]
  },
  {
   "cell_type": "code",
   "execution_count": null,
   "metadata": {},
   "outputs": [],
   "source": [
    "torchvision.transforms.CenterCrop(size)\n",
    "\n",
    "# 功能：从图片中心裁剪出尺寸为 size 的图片\n",
    "# 参数：\n",
    "# size: 所需裁剪的图片尺寸，即输出图像尺寸\n",
    "# 注意：\n",
    "# 若切正方形，transforms.CenterCrop(100) 和 transforms.CenterCrop((100, 100))，两种写法，效果一样\n",
    "# 如果设置的输出的尺寸 大于原图像尺寸，则会在四周补 padding，padding 颜色为黑色(像素值为0)"
   ]
  },
  {
   "cell_type": "code",
   "execution_count": null,
   "metadata": {},
   "outputs": [],
   "source": [
    "# 举例\n",
    "from PIL import Image\n",
    "import torchvision.transforms as transforms\n",
    "import matplotlib.pyplot as plt\n",
    "\n",
    "original_img = Image.open('image.jpg')  # https://p.ipic.vip/7pvisy.jpg\n",
    "print(original_img.size)   # (3280, 1818)\n",
    "\n",
    "img_1 = transforms.CenterCrop(1500)(original_img)\n",
    "img_2 = transforms.CenterCrop((1500, 1500))(original_img)\n",
    "img_3 = transforms.CenterCrop((3000, 3000))(original_img)\n",
    "\n",
    "plt.subplot(141)\n",
    "plt.axis(\"off\")\n",
    "plt.imshow(original_img)\n",
    "\n",
    "plt.subplot(142)\n",
    "plt.axis(\"off\")\n",
    "plt.imshow(img_1)\n",
    "\n",
    "plt.subplot(143)\n",
    "plt.axis(\"off\")\n",
    "plt.imshow(img_2)\n",
    "\n",
    "plt.subplot(144)\n",
    "plt.axis(\"off\")\n",
    "plt.imshow(img_3)\n",
    "\n",
    "plt.show()"
   ]
  },
  {
   "cell_type": "markdown",
   "metadata": {},
   "source": [
    "## 3）transforms.RandomCrop"
   ]
  },
  {
   "cell_type": "code",
   "execution_count": null,
   "metadata": {},
   "outputs": [],
   "source": [
    "torchvision.transforms.RandomCrop(size,\n",
    "                                  padding = None,\n",
    "                                  pad_if_needed = False,\n",
    "                                  fill=0,\n",
    "                                  padding_mode ='constant')\n",
    "\n",
    "# 功能：\n",
    "# 从图片中随机裁剪出尺寸为 size 的图片\n",
    "# 如果设置了参数 padding，先添加 padding，再从padding后的图像中随机裁剪出大小为size的图片\n",
    "# 参数：\n",
    "# size ：所需裁剪的图片尺寸，即输出图像尺寸\n",
    "# padding : 设置填充大小\n",
    "# 当padding值形式式为 a 时，上下左右均填充 a 个像素\n",
    "# 当padding值形式式为 (a, b) 时，左右填充 a 个像素，上下填充 b 个像素\n",
    "# 当padding值形式式为 (a, b, c, d) 时，左上右下分别填充 a，b，c，d\n",
    "# pad_if_needed ：当原图像尺寸小于设置的输出图像尺寸(由参数size指定)，是否填充，默认为 False\n",
    "# padding_mode ：若 pad_if_needed设置为 True，则此参数起作用， 默认值为 \"constant\"\n",
    "# \"constant\" : 像素值由参数 fill 指定 （默认填充黑色，像素值为0）\n",
    "# \"edge\" : padding 的像素值 为图像边缘像素值\n",
    "# \"reflect\" : 镜像填充，最后一个像素不镜像。([1,2,3,4] --> [3,2,1,2,3,4,3,2])\n",
    "# \"symmetric\" : 镜像填充，最后一个像素也镜像。([1,2,3,4] -->[2,1,1,2,3,4,4,3])\n",
    "# fill ：指定填充像素值，当 padding_mode 为 constant 时起作用，默认填充黑色，像素值为0\n",
    "#\n",
    "# 注意：\n",
    "# 同时指定参数padding_mode 和 参数fill 时，若 padding_mode 值不为 \"constant\" ，则 参数fill不起作用。\n",
    "# 若指定的输出图像尺寸size 大于输入图像尺寸，并且指定参数 pad_if_needed = False，则会报错类似如下"
   ]
  },
  {
   "cell_type": "code",
   "execution_count": null,
   "metadata": {},
   "outputs": [],
   "source": [
    "# 举例\n",
    "from PIL import Image\n",
    "import torchvision.transforms as transforms\n",
    "import matplotlib.pyplot as plt\n",
    "\n",
    "original_img = Image.open('image.jpg')  # https://p.ipic.vip/7pvisy.jpg\n",
    "print(original_img.size)   # (3280, 1818)\n",
    "\n",
    "img_1 = transforms.RandomCrop(1500, padding=500)(original_img)\n",
    "img_2 = transforms.RandomCrop(3000, pad_if_needed=True, fill=(255, 0, 0))(original_img)\n",
    "img_3 = transforms.RandomCrop(3000, pad_if_needed=True, padding_mode=\"symmetric\")(original_img)\n",
    "\n",
    "plt.subplot(141)\n",
    "plt.axis(\"off\")\n",
    "plt.imshow(original_img)\n",
    "\n",
    "plt.subplot(142)\n",
    "plt.axis(\"off\")\n",
    "plt.imshow(img_1)\n",
    "\n",
    "plt.subplot(143)\n",
    "plt.axis(\"off\")\n",
    "plt.imshow(img_2)\n",
    "\n",
    "plt.subplot(144)\n",
    "plt.axis(\"off\")\n",
    "plt.imshow(img_3)\n",
    "\n",
    "plt.show()"
   ]
  },
  {
   "cell_type": "markdown",
   "metadata": {},
   "source": [
    "## 4）transforms.RandomResizedCrop"
   ]
  },
  {
   "cell_type": "code",
   "execution_count": null,
   "metadata": {},
   "outputs": [],
   "source": [
    "torchvision.transforms.RandomResizedCrop(size,\n",
    "                                         scale=(0.08, 1.0),\n",
    "                                         ratio=(0.75, 1.3333333333333333),\n",
    "                                         interpolation=InterpolationMode.BILINEAR)\n",
    "\n",
    "# 功能：\n",
    "# Step 1 : 将图像进行随机裁剪，裁剪出的图像需满足：\n",
    "# 裁剪后的图像面积  占原图像面积的比例 在指定的范围内\n",
    "# 裁剪后的图像高宽比 在指定范围内\n",
    "# Step 2 ：将 Step 1 得到的图像通过指定的方式，进行缩放\n",
    "# 参数：\n",
    "# size: 输出的图像尺寸\n",
    "# scale: 随机缩放面积比例，默认随机选取 (0.08, 1) 之间的一个数\n",
    "# ratio: 随机长宽比，默认随机选取 (0.75, 1.33333 ) 之间的一个数。超过这个比例范围会有明显的失真\n",
    "# interpolation: 选用如下插值方法将图像 resize 到输出尺寸\n",
    "# PIL.Image.NEAREST 最近邻差值\n",
    "# PIL.Image.BILINEAR 双线性差值（默认）\n",
    "# PIL.Image.BICUBIC 双三次差值"
   ]
  },
  {
   "cell_type": "code",
   "execution_count": null,
   "metadata": {},
   "outputs": [],
   "source": [
    "# 举例\n",
    "from PIL import Image\n",
    "import torchvision.transforms as transforms\n",
    "import matplotlib.pyplot as plt\n",
    "\n",
    "original_img = Image.open('image.jpg')  # https://p.ipic.vip/7pvisy.jpg\n",
    "print(original_img.size)   # (3280, 1818)\n",
    "\n",
    "img = transforms.RandomResizedCrop(1500)(original_img)\n",
    "\n",
    "plt.subplot(121)\n",
    "plt.imshow(original_img)\n",
    "\n",
    "plt.subplot(122)\n",
    "plt.imshow(img)\n",
    "\n",
    "plt.show()"
   ]
  }
 ],
 "metadata": {
  "language_info": {
   "name": "python"
  }
 },
 "nbformat": 4,
 "nbformat_minor": 2
}
