{
 "cells": [
  {
   "cell_type": "markdown",
   "metadata": {},
   "source": [
    "# 2、水平翻转 与 垂直翻转\n",
    "## 1、随机水平翻转"
   ]
  },
  {
   "cell_type": "code",
   "execution_count": null,
   "metadata": {},
   "outputs": [],
   "source": [
    "torchvision.transforms.RandomHorizontalFlip(p=0.5)\n",
    "\n",
    "# 参数 ：\n",
    "# p ： 概率值，默认为 0.5。 图像会按照指定的概率随机做水平翻转"
   ]
  },
  {
   "cell_type": "code",
   "execution_count": null,
   "metadata": {},
   "outputs": [],
   "source": [
    "# 举例 ：\n",
    "from PIL import Image\n",
    "import torchvision.transforms as transforms\n",
    "import matplotlib.pyplot as plt\n",
    "\n",
    "original_image = Image.open(\"image.jpg\")\n",
    "img = transforms.RandomHorizontalFlip(p=0.9)(original_image)\n",
    "\n",
    "plt.subplot(121)\n",
    "plt.imshow(original_image)\n",
    "plt.axis(\"off\")\n",
    "\n",
    "plt.subplot(122)\n",
    "plt.imshow(img)\n",
    "plt.axis(\"off\")\n",
    "\n",
    "plt.show()"
   ]
  },
  {
   "cell_type": "markdown",
   "metadata": {},
   "source": [
    "## 2、随机垂直翻转"
   ]
  },
  {
   "cell_type": "code",
   "execution_count": null,
   "metadata": {},
   "outputs": [],
   "source": [
    "torchvision.transforms.RandomVerticalFlip(p=0.5)\n",
    "\n",
    "# 参数 ：\n",
    "# p ： 概率值，默认为 0.5。 图像会按照指定的概率随机做垂直翻转"
   ]
  },
  {
   "cell_type": "code",
   "execution_count": null,
   "metadata": {},
   "outputs": [],
   "source": [
    "# 举例\n",
    "from PIL import Image\n",
    "import torchvision.transforms as transforms\n",
    "import matplotlib.pyplot as plt\n",
    "\n",
    "original_image = Image.open(\"image.jpg\")\n",
    "img = transforms.RandomVerticalFlip(p=0.9)(original_image)\n",
    "\n",
    "plt.subplot(121)\n",
    "plt.imshow(original_image)\n",
    "plt.axis(\"off\")\n",
    "\n",
    "plt.subplot(122)\n",
    "plt.imshow(img)\n",
    "plt.axis(\"off\")\n",
    "\n",
    "plt.show()"
   ]
  }
 ],
 "metadata": {
  "language_info": {
   "name": "python"
  }
 },
 "nbformat": 4,
 "nbformat_minor": 2
}
