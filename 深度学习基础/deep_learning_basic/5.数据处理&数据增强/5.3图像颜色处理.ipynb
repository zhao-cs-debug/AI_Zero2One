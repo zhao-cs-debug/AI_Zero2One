{
 "cells": [
  {
   "cell_type": "code",
   "execution_count": null,
   "metadata": {},
   "outputs": [],
   "source": [
    "color_jitter = transforms. ColorJitter(brightness=0,\n",
    "                                       contrast=0,\n",
    "                                       saturation=0,\n",
    "                                       hue=0)\n",
    "\n",
    "# 参数：\n",
    "# brightness：亮度调整系数。   调整范围为 [ 1-brightness, 1+brightness ]，默认值为 0。\n",
    "# contrast：对比度调整系数。   调整范国为 [ 1-contrast, 1+contrast ]，默认值为 0。\n",
    "# saturation：饱和度调整系数。   调整范围为 [ 1-saturation, 1+saturation ]，默认值为 0。\n",
    "# hue：色调调整系数。   调整范围为 [ -hue， hue ]，默认值为 0。"
   ]
  }
 ],
 "metadata": {
  "language_info": {
   "name": "python"
  }
 },
 "nbformat": 4,
 "nbformat_minor": 2
}
