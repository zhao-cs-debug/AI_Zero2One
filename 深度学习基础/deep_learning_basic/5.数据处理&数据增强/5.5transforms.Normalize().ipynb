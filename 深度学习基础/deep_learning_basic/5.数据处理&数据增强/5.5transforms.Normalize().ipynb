{
 "cells": [
  {
   "cell_type": "code",
   "execution_count": null,
   "metadata": {},
   "outputs": [],
   "source": [
    "torchvision.transforms.Normalize(mean, std, inplace=False)\n",
    "\n",
    "# 参数 ：\n",
    "# mean ：(list) 每个通道的均值\n",
    "# std ：(list) 每个通道的标准差\n",
    "# inplace :  是否在原始张量上进行标准化操作\n",
    "#\n",
    "# 作用 :  按照每个通道，使用对应通道的均值(mean) 和 标准差(std) 对图像进行归一化\n",
    "# 公式 ：x = ( x − mean ) / std ，x为像素值\n",
    "# 注意 ：\n",
    "# transforms.Normalize()  一般都紧跟在  transforms.ToTensor() 后进行使用\n",
    "# transforms.ToTensor()和 transforms.Normalize() 是数据处理的最后2步\n",
    "# 经过 transforms.Normalize()处理后，得到的数据，一般是直接输入到模型中使用的"
   ]
  },
  {
   "cell_type": "code",
   "execution_count": null,
   "metadata": {},
   "outputs": [],
   "source": [
    "# 举例\n",
    "import numpy as np\n",
    "import torchvision.transforms as transforms\n",
    "\n",
    "original_img = np.array([[[123, 245, 32],\n",
    "                          [64, 21, 235]],\n",
    "\n",
    "                          [[23, 65, 235],\n",
    "                           [25, 123, 121]]], dtype=np.uint8)\n",
    "\n",
    "\n",
    "img_tensor = transforms.ToTensor()(original_img)\n",
    "print(\"ToTensor 处理后 : \")\n",
    "print(img_tensor)\n",
    "\n",
    "print(\"*\"*30)\n",
    "\n",
    "img_normalized = transforms.Normalize(mean=[0.485, 0.456, 0.406], std=[0.229, 0.224, 0.225])(img_tensor)\n",
    "print(\"Normalize 处理后 : \")\n",
    "print(img_normalized)\n",
    "\n",
    "# 比如， 在transforms.ToTensor() 处理后得到的，第二个通道的第0行第0列的像素：0.9608，\n",
    "# 对应使用 第二个通道的均值 0.456 和 第二个通道的标准差 0.224 进行归一化：（0.9608 − 0.456）/ 0.224 = 2.2535\n",
    "# 归一化后，像素值为 2.2535"
   ]
  },
  {
   "cell_type": "markdown",
   "metadata": {},
   "source": [
    "常见问题\n",
    "\n",
    "问：\n",
    "\n",
    "我们经常会看到代码中使用 transforms.Normalize(mean=[0.485, 0.456, 0.406], std=[0.229, 0.224, 0.225])， 那么 mean=[0.485, 0.456, 0.406], std=[0.229, 0.224, 0.225] 这组数据是怎么来的呢？\n",
    "\n",
    "答：\n",
    "\n",
    "是根据 lmageNet 数据集中的图像进行计算得到的。\n",
    "\n",
    "ImageNet 是一个超大型数据集，在其上计算得出的均值和标准差，满足绝大部分图像的像素值分布。所以，我们一般都会使用这组 均值和标准差。\n",
    "\n",
    "如果你自己的数据集很特别，你想计算自己数据集的均值和方差，然后进行使用，也是可以的，就是比较耗时耗资源。"
   ]
  }
 ],
 "metadata": {
  "language_info": {
   "name": "python"
  }
 },
 "nbformat": 4,
 "nbformat_minor": 2
}
