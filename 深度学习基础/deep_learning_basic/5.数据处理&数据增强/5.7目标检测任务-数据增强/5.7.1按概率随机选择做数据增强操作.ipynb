{
 "cells": [
  {
   "cell_type": "code",
   "execution_count": null,
   "metadata": {},
   "outputs": [],
   "source": [
    "class RandomSelect(object):​\n",
    "    \"\"\"​\n",
    "    Randomly selects between transforms1 and transforms2,​\n",
    "    with probability p for transforms1 and (1 - p) for transforms2​\n",
    "    \"\"\"​\n",
    "    def __init__(self, transforms1, transforms2, p=0.5):​\n",
    "        self.transforms1 = transforms1​\n",
    "        self.transforms2 = transforms2​\n",
    "        self.p = p​\n",
    "​\n",
    "    def __call__(self, img, target):​\n",
    "        if random.random() < self.p:​\n",
    "            return self.transforms1(img, target)​\n",
    "        return self.transforms2(img, target)​\n",
    "        ​\n",
    "        ​\n",
    "​\n",
    "T.RandomSelect(            # 按概率随机选择做数据增强操作​\n",
    "    T.RandomResize(scales, max_size=1333),​\n",
    "    T.Compose([​\n",
    "        T.RandomResize([400, 500, 600]),​\n",
    "        T.RandomSizeCrop(384, 600),​\n",
    "        T.RandomResize(scales, max_size=1333),​\n",
    "    ])​\n",
    ")\n",
    "\n",
    "# 代码解读 ：​\n",
    "# 指定概率p=0.5\n",
    "# 若p<0.5，执行 T.RandomResize(scales, max_size=1333)​\n",
    "# 若p>0.5，执行 如下 3个 数据增强操作\n",
    "\n",
    "# T.Compose([​\n",
    "#             T.RandomResize([400, 500, 600]),​\n",
    "#             T.RandomSizeCrop(384, 600),​\n",
    "#             T.RandomResize(scales, max_size=1333),​\n",
    "#         ])"
   ]
  }
 ],
 "metadata": {
  "language_info": {
   "name": "python"
  }
 },
 "nbformat": 4,
 "nbformat_minor": 2
}
