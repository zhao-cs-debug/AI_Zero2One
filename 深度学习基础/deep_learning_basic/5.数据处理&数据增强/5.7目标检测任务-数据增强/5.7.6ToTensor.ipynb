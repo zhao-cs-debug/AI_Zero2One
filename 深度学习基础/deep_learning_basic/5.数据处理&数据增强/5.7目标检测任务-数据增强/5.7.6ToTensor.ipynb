{
 "cells": [
  {
   "cell_type": "code",
   "execution_count": null,
   "metadata": {},
   "outputs": [],
   "source": [
    "class ToTensor(object):\n",
    "    def __call__(self, img, target):\n",
    "        return F.to_tensor(img), target\n",
    "        \n",
    "img, target = ToTensor()(img, target)"
   ]
  }
 ],
 "metadata": {
  "language_info": {
   "name": "python"
  }
 },
 "nbformat": 4,
 "nbformat_minor": 2
}
