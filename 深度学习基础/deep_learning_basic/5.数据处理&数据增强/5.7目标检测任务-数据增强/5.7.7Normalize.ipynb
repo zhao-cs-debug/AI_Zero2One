{
 "cells": [
  {
   "cell_type": "code",
   "execution_count": null,
   "metadata": {},
   "outputs": [],
   "source": [
    "class Normalize(object):\n",
    "    def __init__(self, mean, std):\n",
    "        self.mean = mean\n",
    "        self.std = std\n",
    "\n",
    "    def __call__(self, image, target=None):\n",
    "        image = F.normalize(image, mean=self.mean, std=self.std)\n",
    "        if target is None:\n",
    "            return image, None\n",
    "        target = target.copy()\n",
    "        h, w = image.shape[-2:]\n",
    "        if \"boxes\" in target:\n",
    "            boxes = target[\"boxes\"]\n",
    "            boxes = box_xyxy_to_cxcywh(boxes)\n",
    "            boxes = boxes / torch.tensor([w, h, w, h], dtype=torch.float32)\n",
    "            target[\"boxes\"] = boxes\n",
    "        return image, target\n",
    "\n",
    "\n",
    "def box_xyxy_to_cxcywh(x):\n",
    "    x0, y0, x1, y1 = x.unbind(-1)\n",
    "    b = [(x0 + x1) / 2, (y0 + y1) / 2,\n",
    "         (x1 - x0), (y1 - y0)]\n",
    "    return torch.stack(b, dim=-1)\n",
    "\n",
    "    \n",
    "img, target = Normalize([0.485, 0.456, 0.406], [0.229, 0.224, 0.225])(img, target)\n",
    "\n",
    "# 代码解读 ：\n",
    "# 将图像的像素值进行归一化\n",
    "# 将 bbox 坐标由 (xmin, ymin, xmax, ymax)  转换为 （cx, cy, w, h）的形式\n",
    "# 将 （cx, cy, w, h）的取值分别除以（wimg ,himg ,wimg ,himg ），将坐标值都归一化到 0 ～1 之间，\n",
    "# 即，相对于 图像尺寸的 相对坐标"
   ]
  }
 ],
 "metadata": {
  "language_info": {
   "name": "python"
  }
 },
 "nbformat": 4,
 "nbformat_minor": 2
}
