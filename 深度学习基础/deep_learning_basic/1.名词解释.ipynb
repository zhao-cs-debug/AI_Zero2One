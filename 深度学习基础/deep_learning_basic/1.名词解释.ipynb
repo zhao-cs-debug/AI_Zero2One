{
 "cells": [
  {
   "cell_type": "markdown",
   "metadata": {},
   "source": [
    "# FFN ​\n",
    "FFN ： Feedforward Neural Network，前馈神经网络​\n",
    "\n",
    "馈神经网络是一种基本的神经网络架构，也称为多层感知器（Multilayer Perceptron，MLP）​\n",
    "\n",
    "FFN 一般主要是包括多个全连接层(FC)的网络，其中，全连接层间可以包含 ： 激活层、BN层、Dropout 层。"
   ]
  },
  {
   "cell_type": "markdown",
   "metadata": {},
   "source": [
    "# MLP 与 FFN 的区别​\n",
    "在机器学习和深度学习中，MLP（多层感知机）和 FFN（前馈神经网络）在很大程度上可以视为同义词，都指代了一个具有多个层的前馈神经网络结构。​\n",
    "\n",
    "MLP（多层感知机）更偏向于表达 网络结构（多个全连接层）​\n",
    "\n",
    "FFN（前馈神经网络）更偏向于表达 数据以前馈的方式流动​\n",
    "\n",
    "MLP 和 FFN 通常指的是只包含全连接层 和激活函数的神经网络结构。这两者都是基本的前馈神经网络类型，没有包含卷积层或其他复杂的结构。"
   ]
  },
  {
   "cell_type": "markdown",
   "metadata": {},
   "source": [
    "# Logit​\n",
    "\"Logit\" 通常指的是神经网络中最后一个隐藏层的输出，经过激活函数之前的值。比如：​\n",
    "\n",
    "对于二分类问题，logit 是指网络输出的未经过 sigmoid 函数处理的值​\n",
    "\n",
    "对于多分类问题，logit 是指网络输出的未经过 softmax 函数处理的值"
   ]
  },
  {
   "cell_type": "markdown",
   "metadata": {},
   "source": [
    "# NLL ​\n",
    "NLL 是 Negative Log-Likelihood（负对数似然）的缩写。​\n",
    "\n",
    "在深度学习中，特别是在分类问题中，NLL 经常与交叉熵损失（Cross-Entropy Loss）等价使用。"
   ]
  },
  {
   "cell_type": "markdown",
   "metadata": {},
   "source": [
    "# Anchor Box 与 Anchor Point​\n",
    "Anchor box 通常表示 一个包含位置和大小信息的四元组 (x,y,w,h) ，而 Anchor point 通常表示 一个二元组  (x,y)。  其中，x 和 y 表示框的中心坐标，w 和 h 表示框的宽度和高度。  ​\n",
    "\n",
    "Anchor box 是目标检测中用于定义目标位置和大小的一种方式。而 Anchor point 主要用于在图像上生成 anchor box 的位置，生成的 anchor box 会在 anchor point 的周围不同尺寸和宽高比的情况下进行缩放，形成一系列不同形状的框。​\n"
   ]
  },
  {
   "cell_type": "markdown",
   "metadata": {},
   "source": [
    "# parameter efficient\n",
    "参数效率高，指的是网络在达到良好性能的同时所使用的参数数量较少。"
   ]
  },
  {
   "cell_type": "markdown",
   "metadata": {},
   "source": [
    "# Deep Supervision​\n",
    "Deep Supervision 是一种训练策略，旨在提高网络的梯度流动，并促使网络更快地收敛，并且有助于缓解梯度消失问题。Deep Supervision 的核心思想是在网络的不同层中引入额外的监督信号，而不仅仅在最后一层输出进行监督训练。具体来说：Deep Supervision 会使用网络的中间层输出，计算出一部分损失函数，然后和网络最后一层的损失函数一起，对网络的参数进行优化。"
   ]
  },
  {
   "cell_type": "markdown",
   "metadata": {},
   "source": [
    "# DDP​\n",
    "\"DDP\" 通常指的是 Distributed Data Parallelism，即分布式数据并行。"
   ]
  }
 ],
 "metadata": {
  "language_info": {
   "name": "python"
  }
 },
 "nbformat": 4,
 "nbformat_minor": 2
}
