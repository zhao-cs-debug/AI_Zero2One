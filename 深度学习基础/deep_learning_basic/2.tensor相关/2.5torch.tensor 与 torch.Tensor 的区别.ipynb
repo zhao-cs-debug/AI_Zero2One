{
 "cells": [
  {
   "cell_type": "markdown",
   "metadata": {},
   "source": [
    "# 1、创建方式不同\n",
    "torch.Tensor 是一个类（Class），用于创建张量对象。\n",
    "\n",
    "torch.tensor 是一个函数（Function），用于从已有的数据创建张量。"
   ]
  },
  {
   "cell_type": "markdown",
   "metadata": {},
   "source": [
    "# 2、参数形式不同\n",
    "torch.Tensor 接受的参数是一个数组形状（size），生成的是尺寸为 size，值全为0的 tensor\n",
    "\n",
    "如果给到 torch.Tensor 的参数是一个元祖或list，会生成以该元祖 或 list 为数据本身的 tensor\n",
    "\n",
    "torch.tensor 接受的参数是数据本身，可以是 一个元祖、list 或 NumPy 数组等形式的数据。\n",
    "\n",
    "同样是指定数据本身生成 tensor ，torch.Tensor 与 torch.tensor 不同的是：对数据类型的推断方式不同 （见下面第3点）"
   ]
  },
  {
   "cell_type": "code",
   "execution_count": null,
   "metadata": {},
   "outputs": [],
   "source": [
    "import torch\n",
    "\n",
    "tensor_a = torch.Tensor(2, 3)  # 创建一个尺寸为 2x3 的空张量\n",
    "print(\"tensor_a：\\n\", tensor_a)\n",
    "\n",
    "tensor_b = torch.Tensor([2, 3])  # 创建一个值为 (2, 3) 的张量\n",
    "print(\"\\n tensor_b：\\n\", tensor_b)\n",
    "\n",
    "tensor_c = torch.tensor(2)  # 创建一个值为 (2) 的张量\n",
    "print(\"\\n tensor_c：\\n\", tensor_c)\n",
    "\n",
    "tensor_d = torch.tensor([2, 3])  # 创建一个值为 (2, 3) 的张量\n",
    "print(\"\\n tensor_d：\\n\", tensor_d)\n",
    "\n",
    "import torch\n",
    "\n",
    "tensor_e = torch.tensor(2, 3)\n",
    "# print(\"\\n tensor_e：\\n\", tensor_e)"
   ]
  },
  {
   "cell_type": "markdown",
   "metadata": {},
   "source": [
    "# 3 、数据类型的推断方式不同\n",
    "torch.Tensor 使用默认数据类型：FloatTensor\n",
    "\n",
    "torch. tensor 是从数据中推断数据类型，可以为：torch.LongTensor，torch.FloatTensor，torch.DoubleTensor"
   ]
  },
  {
   "cell_type": "code",
   "execution_count": null,
   "metadata": {},
   "outputs": [],
   "source": [
    "import torch\n",
    "\n",
    "tensor_a = torch.Tensor([1, 2, 3])\n",
    "print('tensor_a 数据类型 :', tensor_a.dtype)\n",
    "\n",
    "tensor_b = torch.tensor([1, 2, 3])\n",
    "print('tensor_b 数据类型 :', tensor_b.dtype)"
   ]
  }
 ],
 "metadata": {
  "language_info": {
   "name": "python"
  }
 },
 "nbformat": 4,
 "nbformat_minor": 2
}
