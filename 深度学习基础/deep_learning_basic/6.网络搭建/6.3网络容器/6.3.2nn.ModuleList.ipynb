{
 "cells": [
  {
   "cell_type": "markdown",
   "metadata": {},
   "source": [
    "# nn.ModuleList\n",
    "## 1、语法\n",
    "ModuleList 继承自 Module 类，语法如下：\n",
    "\n",
    "modulelist = nn.ModuleList([nn.Linear(32, 6)4, nn.ReLU()])"
   ]
  },
  {
   "cell_type": "markdown",
   "metadata": {},
   "source": [
    "# 2、实现前向传播的2种方式\n",
    "nn.ModuleList 仅仅是一个储存各种模块的列表，这些模块之间没有联系也没有顺序（所以不用保证相邻层的输入输出维度匹配），而且没有实现 forward 功能，需要自己实现"
   ]
  },
  {
   "cell_type": "code",
   "execution_count": null,
   "metadata": {},
   "outputs": [],
   "source": [
    "import torch\n",
    "import torch.nn as nn\n",
    "\n",
    "modulelist = nn.ModuleList([nn.Linear(32, 64), nn.ReLU()])\n",
    "print(modulelist)\n",
    "\n",
    "x = torch.randn(8, 32)\n",
    "print(modulelist(x).shape)   # 会报错，提示缺少forward"
   ]
  },
  {
   "cell_type": "markdown",
   "metadata": {},
   "source": [
    "### 1）实现前向传播方式一 ：为 nn.ModuleList 写 forward 函数"
   ]
  },
  {
   "cell_type": "code",
   "execution_count": null,
   "metadata": {},
   "outputs": [],
   "source": [
    "import torch\n",
    "import torch.nn as nn\n",
    "\n",
    "\n",
    "class My_Model(nn.Module):\n",
    "    def __init__(self):\n",
    "        super(My_Model, self).__init__()\n",
    "        self.layers = nn.ModuleList([nn.Linear(32, 64), nn.ReLU()])\n",
    "\n",
    "    def forward(self, x):\n",
    "        for layer in self.layers:\n",
    "            x = layer(x)\n",
    "        return x\n",
    "\n",
    "\n",
    "net = My_Model()\n",
    "x = torch.randn(8, 32)\n",
    "print(net(x).shape)"
   ]
  },
  {
   "cell_type": "markdown",
   "metadata": {},
   "source": [
    "### 2）实现前向传播方式二 ：将 nn.ModuleList 转换成 nn.Sequential"
   ]
  },
  {
   "cell_type": "code",
   "execution_count": null,
   "metadata": {},
   "outputs": [],
   "source": [
    "import torch\n",
    "import torch.nn as nn\n",
    "\n",
    "module_list = nn.ModuleList([nn.Linear(32, 64), nn.ReLU()])\n",
    "net = nn.Sequential(*module_list)\n",
    "x = torch.randn(8, 32)\n",
    "print(net(x).shape)"
   ]
  },
  {
   "cell_type": "markdown",
   "metadata": {},
   "source": [
    "## 3、读取模块、添加模块\n",
    "ModuleList 可以通过索引读取模块，并且使用 append 添加模块"
   ]
  },
  {
   "cell_type": "code",
   "execution_count": null,
   "metadata": {},
   "outputs": [],
   "source": [
    "import torch.nn as nn\n",
    "\n",
    "modulelist = nn.ModuleList([nn.Linear(32, 64), nn.ReLU()])\n",
    "modulelist.append(nn.Linear(64, 10))\n",
    "\n",
    "print(modulelist)\n",
    "print(modulelist[2])"
   ]
  },
  {
   "cell_type": "markdown",
   "metadata": {},
   "source": [
    "## 4、nn.ModuleList 中的参数\n",
    "加入到 nn.ModuleList 里面的所有模块的参数 会被自动添加到网络参数列表中"
   ]
  },
  {
   "cell_type": "code",
   "execution_count": null,
   "metadata": {},
   "outputs": [],
   "source": [
    "import torch.nn as nn\n",
    "\n",
    "modulelist = nn.ModuleList([nn.Linear(32, 64), nn.ReLU()])\n",
    "\n",
    "for name, param in modulelist.named_parameters():\n",
    "    print(name, param.size())"
   ]
  }
 ],
 "metadata": {
  "kernelspec": {
   "display_name": "transformers",
   "language": "python",
   "name": "python3"
  },
  "language_info": {
   "name": "python",
   "version": "3.9.18"
  }
 },
 "nbformat": 4,
 "nbformat_minor": 2
}
