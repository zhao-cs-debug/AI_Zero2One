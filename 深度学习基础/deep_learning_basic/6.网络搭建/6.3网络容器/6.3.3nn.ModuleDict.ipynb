{
 "cells": [
  {
   "cell_type": "markdown",
   "metadata": {},
   "source": [
    "# nn.ModuleDict\n",
    "## 1、语法\n",
    "nn.ModuleDict 继承自 Module 类，语法如下：\n",
    "\n",
    "module_dict = nn.ModuleDict({'linear': nn.Linear(32, 64), 'act': nn.ReLU()})"
   ]
  },
  {
   "cell_type": "markdown",
   "metadata": {},
   "source": [
    "## 2、实现前向传播的2种方式\n",
    " nn.ModuleDict 实例仅仅是存放了一些模块的字典，并没有定义 forward 函数，需要自己定义"
   ]
  },
  {
   "cell_type": "code",
   "execution_count": null,
   "metadata": {},
   "outputs": [],
   "source": [
    "import torch\n",
    "import torch.nn as nn\n",
    "\n",
    "module_dict = nn.ModuleDict({'linear': nn.Linear(32, 64),\n",
    "                             'act': nn.ReLU()})\n",
    "print(module_dict)\n",
    "\n",
    "x = torch.randn(8, 32)\n",
    "print(module_dict(x).shape)   # 会报错，提示缺少forward"
   ]
  },
  {
   "cell_type": "markdown",
   "metadata": {},
   "source": [
    "### 1）实现前向传播方式一 ：为 nn.ModuleDict 写 forward 函数"
   ]
  },
  {
   "cell_type": "code",
   "execution_count": null,
   "metadata": {},
   "outputs": [],
   "source": [
    "import torch\n",
    "import torch.nn as nn\n",
    "\n",
    "class My_Model(nn.Module):\n",
    "    def __init__(self):\n",
    "        super(My_Model, self).__init__()\n",
    "        self.layers = nn.ModuleDict({'linear': nn.Linear(32, 64), 'act': nn.ReLU()})\n",
    "\n",
    "    def forward(self, x):\n",
    "        for layer in self.layers.values():\n",
    "            x = layer(x)\n",
    "        return x\n",
    "\n",
    "net = My_Model()\n",
    "x = torch.randn(8, 32)\n",
    "print(net(x).shape)"
   ]
  },
  {
   "cell_type": "markdown",
   "metadata": {},
   "source": [
    "### 2）实现前向传播方式二 ：将 nn.ModuleDict 转换成 nn.Sequential"
   ]
  },
  {
   "cell_type": "code",
   "execution_count": null,
   "metadata": {},
   "outputs": [],
   "source": [
    "import torch\n",
    "import torch.nn as nn\n",
    "\n",
    "module_dict = nn.ModuleDict({'linear': nn.Linear(32, 64), 'act': nn.ReLU()})\n",
    "net = nn.Sequential(*module_dict.values())\n",
    "\n",
    "x = torch.randn(8, 32)\n",
    "print(net(x).shape)"
   ]
  },
  {
   "cell_type": "markdown",
   "metadata": {},
   "source": [
    "## 3、读取模块、添加模块\n",
    "ModuleDict 可以通过 key 读取模块，并且可以像 字典一样添加模块"
   ]
  },
  {
   "cell_type": "code",
   "execution_count": null,
   "metadata": {},
   "outputs": [],
   "source": [
    "import torch.nn as nn\n",
    "\n",
    "module_dict = nn.ModuleDict({'linear1': nn.Linear(32, 64),\n",
    "                             'act': nn.ReLU()})\n",
    "module_dict['linear2'] = nn.Linear(64, 128)\n",
    "\n",
    "print(module_dict)\n",
    "print(module_dict['act'])"
   ]
  },
  {
   "cell_type": "markdown",
   "metadata": {},
   "source": [
    "## 4、nn.ModuleDict 中的参数\n",
    "加入到 nn.ModuleDict 里面的所有模块的参数 会被自动添加到网络参数列表中"
   ]
  },
  {
   "cell_type": "code",
   "execution_count": null,
   "metadata": {},
   "outputs": [],
   "source": [
    "import torch.nn as nn\n",
    "\n",
    "module_dict = nn.ModuleDict({'linear': nn.Linear(32, 64),\n",
    "                             'act': nn.ReLU()})\n",
    "\n",
    "for name, param in module_dict.named_parameters():\n",
    "    print(name, param.size())"
   ]
  }
 ],
 "metadata": {
  "language_info": {
   "name": "python"
  }
 },
 "nbformat": 4,
 "nbformat_minor": 2
}
