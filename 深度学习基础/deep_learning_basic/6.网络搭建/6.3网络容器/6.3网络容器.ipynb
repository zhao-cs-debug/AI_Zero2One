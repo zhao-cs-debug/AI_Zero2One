{
 "cells": [
  {
   "cell_type": "markdown",
   "metadata": {},
   "source": [
    "# 网络容器​\n",
    "在深度学习中，网络容器是指用于组织和管理神经网络层的结构。它们允许将多个层组合在一起，放在一个网络容器中。常见的网络容器有以下几种：​\n",
    "1. Sequential​\n",
    "2. ModuleList​\n",
    "3. ModuleDict"
   ]
  }
 ],
 "metadata": {
  "language_info": {
   "name": "python"
  }
 },
 "nbformat": 4,
 "nbformat_minor": 2
}
