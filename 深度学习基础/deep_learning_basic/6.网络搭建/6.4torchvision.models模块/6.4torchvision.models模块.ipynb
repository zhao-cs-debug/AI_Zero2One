{
 "cells": [
  {
   "cell_type": "markdown",
   "metadata": {},
   "source": [
    "# torchvision.models 模块\n",
    "torchvision ：专门用于处理计算机视觉任务的一个库，我们最常用的模块有 4个：\n",
    "\n",
    "torchvision.models 模块 ：下载网络 以及 预训练参数\n",
    "\n",
    "torchvision.transforms 模块 ： 用于做数据增强 和 数据预处理\n",
    "\n",
    "torchvision.datasets 模块：提供常用数据集\n",
    "\n",
    "torchvision.utils模块：提供了一些工具函数，如计算分类准确率、可视化图像等。\n",
    "\n",
    "## 1、torchvision.models 模块\n",
    "Pytorch 提供了许多任务的 模型 和 预训练好的参数，可直接通过 torchvision.models() 进行下载。\n",
    "\n",
    "比如像分类任务，pytorch 就提供了如下模型(如下左图) 以及预训练好的参数(如下右图)，更多请查看官网：https://pytorch.org/vision/stable/models.html"
   ]
  },
  {
   "cell_type": "markdown",
   "metadata": {},
   "source": [
    "## 2、使用举例\n",
    "1）下载不带预训练参数的模型 （以 resnet50举例）"
   ]
  },
  {
   "cell_type": "code",
   "execution_count": null,
   "metadata": {},
   "outputs": [],
   "source": [
    "from torchvision import models\n",
    "\n",
    "net = models.resnet50(weights=None)\n",
    "# 等价写法\n",
    "net = models.resnet50()"
   ]
  },
  {
   "cell_type": "markdown",
   "metadata": {},
   "source": [
    "2）下载带预训练参数的模型 （以 resnet50举例）"
   ]
  },
  {
   "cell_type": "code",
   "execution_count": null,
   "metadata": {},
   "outputs": [],
   "source": [
    "from torchvision import models\n",
    "\n",
    "# 加载V1版本权重参数\n",
    "model_v1 = models.resnet50(weights=models.ResNet50_Weights.IMAGENET1K_V1)\n",
    "# 等价写法\n",
    "model_v1 = models.resnet50(weights=\"IMAGENET1K_V1\")\n",
    "\n",
    "\n",
    "# 加载V2版本权重参数\n",
    "model_v2 = models.resnet50(weights=models.ResNet50_Weights.IMAGENET1K_V2)\n",
    "# 等价写法\n",
    "model_v2 = models.resnet50(weights=\"IMAGENET1K_V2\")\n",
    "\n",
    "\n",
    "# 加载默认版本权重参数 （一般默认使用最新版本的参数文件）\n",
    "model_v2 = models.resnet50(weights=models.ResNet50_Weights.DEFAULT)\n",
    "# 等价写法\n",
    "model_v2 = models.resnet50(weights=\"DEFAULT\")\n",
    "\n",
    "# 参数\n",
    "# weights ：用于指定要 需要下载的 权重版本\n",
    "# progress :  如果为 True，则会在屏幕上显示模型下载进度条。默认为 True"
   ]
  }
 ],
 "metadata": {
  "language_info": {
   "name": "python"
  }
 },
 "nbformat": 4,
 "nbformat_minor": 2
}
