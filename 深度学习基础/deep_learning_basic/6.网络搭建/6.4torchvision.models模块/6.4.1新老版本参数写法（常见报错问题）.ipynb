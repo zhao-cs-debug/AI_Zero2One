{
 "cells": [
  {
   "cell_type": "markdown",
   "metadata": {},
   "source": [
    "# 新老版本参数写法（常见报错问题）\n",
    "如果你的 PyTorch 和 torchvision 更新到了较新的版本，而使用如下旧版本参数写法，则会报错\n",
    "## 1）旧版参数写法"
   ]
  },
  {
   "cell_type": "code",
   "execution_count": null,
   "metadata": {},
   "outputs": [],
   "source": [
    "from torchvision import models\n",
    "\n",
    "# 加载不带参数的 resnet50网络\n",
    "models.resnet50(pretrained=False)  # 旧版本写法，已弃用\n",
    "\n",
    "# 加载带预训练参数的 resnet50网络\n",
    "models.resnet50(pretrained=True)  # 旧版本写法，已弃用"
   ]
  },
  {
   "cell_type": "markdown",
   "metadata": {},
   "source": [
    "可能报如下三种错误：\n",
    "\n",
    "UserWarning: The parameter ‘pretrained’ is deprecated since 0.13 and will be removed in 0.15, please use ‘weights’ instead.\n",
    "\n",
    "UserWarning: Arguments other than a weight enum or None for ‘weights’ are deprecated since 0.13 and will be removed in 0.15.  The current behavior is equivalent to passing\n",
    "\n",
    "weights=ResNet50_Weights.IMAGENET1K_V1. You can also use weights=ResNet50_Weights.DEFAULT to get the most up-to-date weights.\n",
    "\n",
    "这是因为 torchvision 0.13对预训练模型加载方式作出了重大更新造成的。\n",
    "\n",
    "从 torchvision 0.13开始，torchvision提供一个全新的多权重支持API (Multi-weight support API) ，支持将不同版本的权重参数文件加载到模型中。\n",
    "\n",
    "旧版本的写法将在未来的 torchvision 0.15 版本中被 Deprecated"
   ]
  },
  {
   "cell_type": "markdown",
   "metadata": {},
   "source": [
    "## 2）新版参数写法"
   ]
  },
  {
   "cell_type": "code",
   "execution_count": null,
   "metadata": {},
   "outputs": [],
   "source": [
    "from torchvision import models\n",
    "\n",
    "# 加载V1版本权重参数\n",
    "model_v1 = models.resnet50(weights=models.ResNet50_Weights.IMAGENET1K_V1)\n",
    "# 等价写法\n",
    "model_v1 = models.resnet50(weights=\"IMAGENET1K_V1\")\n",
    "\n",
    "\n",
    "# 加载V2版本权重参数\n",
    "model_v2 = models.resnet50(weights=models.ResNet50_Weights.IMAGENET1K_V2)\n",
    "# 等价写法\n",
    "model_v2 = models.resnet50(weights=\"IMAGENET1K_V2\")\n",
    "\n",
    "\n",
    "# 加载默认版本权重参数 （一般默认使用最新版本的参数文件）\n",
    "model_v2 = models.resnet50(weights=models.ResNet50_Weights.DEFAULT)\n",
    "# 等价写法\n",
    "model_v2 = models.resnet50(weights=\"DEFAULT\")"
   ]
  },
  {
   "cell_type": "markdown",
   "metadata": {},
   "source": [
    "## 3）why 新版写法\n",
    "在旧版本的写法 pretrained = True 中，对于预训练权重参数我们没有选择的余地，只能使用默认的预训练权重文件版本。\n",
    "\n",
    "而使用新版本写法 weights=预训练模型参数版本 ，相当于我们掌握了预训练权重参数文件的选择权。\n",
    "\n",
    "如果你不知道哪个权重文件的版本是最新的，没关系，直接选择默认的版本即可。官方会随着 torchvision 的升级而让 DEFAULT 权重文件版本保持在最新。"
   ]
  }
 ],
 "metadata": {
  "language_info": {
   "name": "python"
  }
 },
 "nbformat": 4,
 "nbformat_minor": 2
}
