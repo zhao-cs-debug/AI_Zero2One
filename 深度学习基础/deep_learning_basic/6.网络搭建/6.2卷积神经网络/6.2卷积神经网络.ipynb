{
 "cells": [
  {
   "cell_type": "markdown",
   "metadata": {},
   "source": [
    "1. 基础层：​\n",
    "\n",
    "nn.Linear: 全连接层，用于定义线性变换​\n",
    "\n",
    "nn.Conv1d, nn.Conv2d, nn.Conv3d: 1D、2D 和 3D 卷积层​\n",
    "\n",
    "nn.MaxPool1d, nn.MaxPool2d, nn.MaxPool3d: 最大池化层​\n",
    "\n",
    "nn.AvgPool1d, nn.AvgPool2d, nn.AvgPool3d: 平均池化层"
   ]
  },
  {
   "cell_type": "markdown",
   "metadata": {},
   "source": [
    "2. 激活函数：​\n",
    "\n",
    "nn.ReLU: ReLU（Rectified Linear Unit）激活函数​\n",
    "\n",
    "nn.Tanh: 双曲正切激活函数​\n",
    "\n",
    "nn.Sigmoid: Sigmoid 激活函数​\n",
    "\n",
    "nn.Softmax: Softmax 激活函数"
   ]
  },
  {
   "cell_type": "markdown",
   "metadata": {},
   "source": [
    "3. 正则化层：​\n",
    "\n",
    "nn.Dropout: 随机失活，用于防止过拟合​\n",
    "\n",
    "nn.BatchNorm1d, nn.BatchNorm2d, nn.BatchNorm3d: 批标准化层"
   ]
  }
 ],
 "metadata": {
  "language_info": {
   "name": "python"
  }
 },
 "nbformat": 4,
 "nbformat_minor": 2
}
