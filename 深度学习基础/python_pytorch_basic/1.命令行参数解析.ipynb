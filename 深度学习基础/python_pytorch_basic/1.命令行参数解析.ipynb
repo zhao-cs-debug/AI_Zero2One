{
 "cells": [
  {
   "cell_type": "markdown",
   "metadata": {},
   "source": [
    "# 简介\n",
    "argparse 模块是 Python 标准库中提供的一个 命令行解析模块 ，它可以让使用者以类似 Unix/Linux 命令参数的方式输入参数（在终端以命令行的方式指定参数），argparse 会自动将命令行指定的参数解析为 Python 变量，从而让使用者更加快捷的处理参数。\n"
   ]
  },
  {
   "cell_type": "code",
   "execution_count": null,
   "metadata": {},
   "outputs": [],
   "source": [
    "import argparse\n",
    "\n",
    "parser = argparse.ArgumentParser(description=\"description\")\n",
    "\n",
    "parser.add_argument('-gf', '--girlfriend', choices=['jingjing', 'lihuan'])\n",
    "parser.add_argument('food')\n",
    "parser.add_argument('--house', type=int, default=0)\n",
    "\n",
    "args = parser.parse_args()\n",
    "print('args :',args)\n",
    "print('girlfriend :', args.girlfriend)\n",
    "print('food :', args.food)\n",
    "print('house :', args.house)"
   ]
  },
  {
   "cell_type": "markdown",
   "metadata": {},
   "source": [
    "# 使用步骤"
   ]
  },
  {
   "cell_type": "code",
   "execution_count": null,
   "metadata": {},
   "outputs": [],
   "source": [
    "# 1）导入argparse模块，并创建解释器\n",
    "import argparse\n",
    "\n",
    "# 创建解释器\n",
    "parser = argparse.ArgumentParser(description=\"可写可不写，此处会在命令行参数出现错误的时候，随着错误信息打印出来。\")"
   ]
  },
  {
   "cell_type": "code",
   "execution_count": null,
   "metadata": {},
   "outputs": [],
   "source": [
    "# 2）添加所需参数\n",
    "parser.add_argument('-gf', '--girlfriend', choices=['jingjing', 'lihuan'])\n",
    "# --girlfriend 代表完整的参数名称，可以尽量做到让人见名知意，需要注意的是如果想通过解析后的参数取出该值，必须使用带--的名称\n",
    "# -gf 代表参数名缩写，在命令行输入 -gf 和 --girlfriend 的效果是一样的，用简称的作用是简化参数输入\n",
    "# choices 代表输入参数的值只能是这个choices里面的内容，其他内容则会保错\n",
    "\n",
    "parser.add_argument('food')\n",
    "# 该种方式则要求必须输入该参数； 输入该参数不需要指定参数名称，指定反而会报错，解释器会自动将输入的参数赋值给food\n",
    "\n",
    "parser.add_argument('--house', type=int, default=0)\n",
    "# type  代表输入参数的类型，从命令行输入的参数，默认是字符串类型\n",
    "# default 如果不指定该参数的值，则会使用该默认值\n",
    "\n",
    "parser.add_argument('--modelname', '-m', type=str,\n",
    "                     required=True, choices=['model_A', 'model_B'])\n",
    "# required 参数用于指定参数是否必需。如果设置为 True，则在命令行中必须提供该参数，否则将引发异常。\n",
    "\n",
    "# 参数 type 常用值有 ：int、 float、 str、bool"
   ]
  },
  {
   "cell_type": "code",
   "execution_count": null,
   "metadata": {},
   "outputs": [],
   "source": [
    "# 3）解析参数\n",
    "# 进行参数解析\n",
    "args = parser.parse_args()"
   ]
  },
  {
   "cell_type": "markdown",
   "metadata": {},
   "source": [
    "# 其他参数说明\n",
    "向 add_argument 方法中传入参数 action=‘store_true’/‘store_false’ ，解析出来就是 bool型参数，值为 True/False，具体规则为:\n",
    "\n",
    "store_true：如果未指定该参数，默认状态下其值为False；若指定该参数，将该参数置为 True\n",
    "\n",
    "store_false：如果未指定该参数，默认状态下其值为True；若指定该参数，将该参数置为 False"
   ]
  },
  {
   "cell_type": "code",
   "execution_count": null,
   "metadata": {},
   "outputs": [],
   "source": [
    "import argparse\n",
    "\n",
    "parser = argparse.ArgumentParser(description=\"description\")\n",
    "\n",
    "parser.add_argument('--pa', '-a', action='store_true')\n",
    "parser.add_argument('--pb', '-b', action=\"store_false\")\n",
    "args = parser.parse_args()\n",
    "print(args)\n",
    "\n",
    "# >> python test.py\n",
    "# Namespace(pa=False, pb=True)\n",
    "#\n",
    "# >> python test.py -a -b\n",
    "# Namespace(pa=True, pb=False)"
   ]
  },
  {
   "cell_type": "markdown",
   "metadata": {},
   "source": [
    "若 该参数 同时指定了 action 和 default，在未指定该参数的情况下，以 default 值为准；在指定该参数的情况下，以 action 的值为准。"
   ]
  },
  {
   "cell_type": "code",
   "execution_count": null,
   "metadata": {},
   "outputs": [],
   "source": [
    "import argparse\n",
    "\n",
    "parser = argparse.ArgumentParser(description=\"description\")\n",
    "\n",
    "parser.add_argument('--pa','-a',action='store_true')\n",
    "parser.add_argument('--pb','-b',action=\"store_true\",default=True)\n",
    "parser.add_argument('--pc','-c',action=\"store_true\",default=False)\n",
    "\n",
    "parser.add_argument('--pd','-d',action='store_false')\n",
    "parser.add_argument('--pe','-e',action=\"store_false\",default=True)\n",
    "parser.add_argument('--pf','-f',action=\"store_false\",default=False)\n",
    "\n",
    "args = parser.parse_args()\n",
    "print(args)\n",
    "\n",
    "# >> python test.py\n",
    "# Namespace(pa=False, pb=True， pc=False, pd=True, pe=True, pf=False)\n",
    "#\n",
    "# >> python test.py -a -b -c -d -e -f\n",
    "# Namespace(pa=True, pb=True， pc=True, pd=False, pe=False, pf=False)"
   ]
  },
  {
   "cell_type": "markdown",
   "metadata": {},
   "source": [
    "# 代码实例"
   ]
  },
  {
   "cell_type": "code",
   "execution_count": null,
   "metadata": {},
   "outputs": [],
   "source": [
    "import torch\n",
    "import datetime\n",
    "import argparse\n",
    "\n",
    "\n",
    "def diffusion_defaults():\n",
    "    defaults = dict(\n",
    "        num_timesteps=1000,\n",
    "        schedule=\"linear\",\n",
    "        loss_type=\"l2\",\n",
    "        use_labels=False,\n",
    "\n",
    "        base_channels=128,\n",
    "        channel_mults=(1, 2, 2, 2),\n",
    "        num_res_blocks=2,\n",
    "        time_emb_dim=128 * 4,\n",
    "        norm=\"gn\",\n",
    "        dropout=0.1,\n",
    "        activation=\"silu\",\n",
    "        attention_resolutions=(1,),\n",
    "\n",
    "        ema_decay=0.9999,\n",
    "        ema_update_rate=1,\n",
    "    )\n",
    "    return defaults\n",
    "\n",
    "\n",
    "def add_dict_to_argparser(parser, default_dict):\n",
    "    for k, v in default_dict.items():\n",
    "        v_type = type(v)\n",
    "        if v is None:\n",
    "            v_type = str\n",
    "        parser.add_argument(f\"--{k}\", default=v, type=v_type)\n",
    "\n",
    "\n",
    "def create_argparser():\n",
    "    device = torch.device(\"cuda\") if torch.cuda.is_available() else torch.device(\"cpu\")\n",
    "    run_name = datetime.datetime.now().strftime(\"ddpm-%Y-%m-%d-%H-%M\")\n",
    "    defaults = dict(\n",
    "        learning_rate=2e-4,\n",
    "        batch_size=2,\n",
    "        iterations=800000,\n",
    "\n",
    "        log_to_wandb=True,\n",
    "        log_rate=1000,\n",
    "        checkpoint_rate=1000,\n",
    "        log_dir=\"~/ddpm_logs\",\n",
    "        project_name=\"Enzo_ddpm\",\n",
    "        run_name=run_name,\n",
    "\n",
    "        model_checkpoint=None,\n",
    "        optim_checkpoint=None,\n",
    "\n",
    "        schedule_low=1e-4,\n",
    "        schedule_high=0.02,\n",
    "\n",
    "        device=device,\n",
    "    )\n",
    "    defaults.update(diffusion_defaults())\n",
    "    parser = argparse.ArgumentParser()\n",
    "    add_dict_to_argparser(parser, defaults)\n",
    "    return parser\n",
    "\n",
    "\n",
    "if __name__ == '__main__':\n",
    "    args = create_argparser().parse_args()\n",
    "    print(args)\n",
    "\n",
    "# Namespace(activation='silu',\n",
    "#           attention_resolutions=(1,),\n",
    "#           base_channels=128,\n",
    "#           batch_size=2,\n",
    "#           channel_mults=(1, 2, 2, 2),\n",
    "#           checkpoint_rate=1000,\n",
    "#           device=device(type='cpu'),\n",
    "#           dropout=0.1,\n",
    "#           ema_decay=0.9999,\n",
    "#           ema_update_rate=1,\n",
    "#           iterations=800000,\n",
    "#           learning_rate=0.0002,\n",
    "#           log_dir='~/ddpm_logs',\n",
    "#           log_rate=1000,\n",
    "#           log_to_wandb=True,\n",
    "#           loss_type='l2',\n",
    "#           model_checkpoint=None,\n",
    "#           norm='gn',\n",
    "#           num_res_blocks=2,\n",
    "#           num_timesteps=1000,\n",
    "#           optim_checkpoint=None,\n",
    "#           project_name='Enzo_ddpm',\n",
    "#           run_name='ddpm-2023-09-24-18-17',\n",
    "#           schedule='linear',\n",
    "#           schedule_high=0.02,\n",
    "#           schedule_low=0.0001,\n",
    "#           time_emb_dim=512,\n",
    "#           use_labels=False)\n"
   ]
  }
 ],
 "metadata": {
  "kernelspec": {
   "display_name": "transformers",
   "language": "python",
   "name": "python3"
  },
  "language_info": {
   "codemirror_mode": {
    "name": "ipython",
    "version": 3
   },
   "file_extension": ".py",
   "mimetype": "text/x-python",
   "name": "python",
   "nbconvert_exporter": "python",
   "pygments_lexer": "ipython3",
   "version": "3.9.18"
  }
 },
 "nbformat": 4,
 "nbformat_minor": 2
}
