{
 "cells": [
  {
   "cell_type": "markdown",
   "metadata": {},
   "source": [
    "# YAML\n",
    "YAML  ：YAML Ain't Markup Language\"，即 YAML是一种非标记语言。"
   ]
  },
  {
   "cell_type": "markdown",
   "metadata": {},
   "source": [
    "1、基本语法\n",
    "大小写敏感\n",
    "使用缩进表示层级关系\n",
    "缩进不允许使用 tab，只允许空格\n",
    "缩进的空格数不重要，只要相同层级的元素左对齐即可\n",
    "'#' 表示注释"
   ]
  },
  {
   "cell_type": "markdown",
   "metadata": {},
   "source": [
    "2、数据类型\n",
    "YAML 支持以下几种数据类型：\n",
    "对象：键值对的集合，又称为映射（mapping）/ 哈希（hashes） / 字典（dictionary）\n",
    "数组：一组按次序排列的值，又称为序列（sequence） / 列表（list）\n",
    "纯量（scalars）：单个的、不可再分的值"
   ]
  },
  {
   "cell_type": "markdown",
   "metadata": {},
   "source": [
    "（1）对象\n",
    "对象 键值对 使用 冒号结构表示  key: value  ，冒号后面要加一个空格。\n",
    "也可以使用 key:{key1: value1, key2: value2, ...}\n",
    "还可以使用缩进表示层级关系；\n",
    "key: \n",
    "    child-key: value     # 冒号后面要加一个空格\n",
    "    child-key2: value2    # 冒号后面要加一个空格\n",
    "\n",
    "（2）数组\n",
    "以 - 开头的行表示构成一个数组， 如下效果类似于： [A, B, C] \n",
    "- A\n",
    "- B\n",
    "- C\n",
    "YAML 支持多维数组，可以使用行内表示：key: [value1, value2, ...]\n",
    "数据结构的子成员是一个数组，则可以在该项下面缩进一个空格\n",
    "-\n",
    "   - A\n",
    "   - B\n",
    "   - C\n",
    "一个相对复杂的例子：\n",
    "companies:\n",
    "    -\n",
    "        id: 1\n",
    "        name: company1\n",
    "        price: 200W\n",
    "    -\n",
    "        id: 2\n",
    "        name: company2\n",
    "        price: 500W    \n",
    " 表示 companies 是一个数组，每一个数组元素又是由 id、name、price 三个属性构成。\n",
    "以上也可以使用流式(flow)的方式表示：companies: [{id: 1,name: company1,price: 200W},{id: 2,name: company2,price: 500W}]\n",
    "\n",
    "（3）常量\n",
    "纯量是最基本的，不可再分的值，包括：字符串、布尔值、整数、浮点数、Null、时间、日期、举例\n",
    "boolean: \n",
    "    - TRUE  #true,True都可以\n",
    "    - FALSE  #false，False都可以\n",
    "float:\n",
    "    - 3.14\n",
    "    - 6.8523015e+5  #可以使用科学计数法\n",
    "int:\n",
    "    - 123\n",
    "    - 0b1010_0111_0100_1010_1110    #二进制表示\n",
    "null:\n",
    "    nodeName: 'node'\n",
    "    parent: ~  #使用~表示null\n",
    "string:\n",
    "    - myname\n",
    "    - 'Hello world'  #可以使用双引号或者单引号包裹特殊字符\n",
    "    - newline\n",
    "      newline2    #字符串可以拆成多行，每一行会被转化成一个空格\n",
    "date:\n",
    "    - 2018-02-17    #日期必须使用ISO 8601格式，即yyyy-MM-dd\n",
    "datetime: \n",
    "    -  2018-02-17T15:02:31+08:00    #时间使用ISO 8601格式，时间和日期之间使用T连接，最后使用+代表时区\n"
   ]
  },
  {
   "cell_type": "markdown",
   "metadata": {},
   "source": [
    "3、yaml 文件读取\n",
    "      首先安装 yaml 包 ： pip install pyyaml \n",
    "\n",
    "假设有一个 example.yaml  文件，内容如下 ：\n",
    "name:\n",
    "  - John\n",
    "  - Tom\n",
    "age:\n",
    "  - 30\n",
    "  - 25\n",
    "\n",
    "我们可以通过以下 代码，读取 example.yaml 文件中的内容"
   ]
  },
  {
   "cell_type": "code",
   "execution_count": null,
   "metadata": {},
   "outputs": [],
   "source": [
    "import yaml\n",
    "\n",
    "# 读取 YAML 文件\n",
    "with open(\"example.yaml\", \"r\") as file:\n",
    "    data = yaml.safe_load(file)\n",
    "\n",
    "# 打印读取的数据\n",
    "print(data)"
   ]
  },
  {
   "cell_type": "markdown",
   "metadata": {},
   "source": [
    "4、yaml 文件写入"
   ]
  },
  {
   "cell_type": "code",
   "execution_count": null,
   "metadata": {},
   "outputs": [],
   "source": [
    "import yaml\n",
    "\n",
    "data = {'name':['John', 'Tom'], 'age':[30, 25]}\n",
    "\n",
    "with open('./example.yaml ', \"w\") as f:\n",
    "    yaml.safe_dump({k: v for k, v in data.items()}, f)"
   ]
  },
  {
   "cell_type": "code",
   "execution_count": null,
   "metadata": {},
   "outputs": [],
   "source": []
  },
  {
   "cell_type": "markdown",
   "metadata": {},
   "source": []
  },
  {
   "cell_type": "markdown",
   "metadata": {},
   "source": []
  },
  {
   "cell_type": "markdown",
   "metadata": {},
   "source": []
  },
  {
   "cell_type": "code",
   "execution_count": null,
   "metadata": {},
   "outputs": [],
   "source": []
  }
 ],
 "metadata": {
  "language_info": {
   "name": "python"
  }
 },
 "nbformat": 4,
 "nbformat_minor": 2
}
