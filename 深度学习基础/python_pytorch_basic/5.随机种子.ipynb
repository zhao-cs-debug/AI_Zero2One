{
 "cells": [
  {
   "cell_type": "markdown",
   "metadata": {},
   "source": [
    "# 随机种子\n",
    "在计算机程序中，随机数通常是通过伪随机数生成算法产生的，这些算法基于初始的种子值生成一个序列看似随机的数字。如果种子值相同，那么生成的随机数序列也将相同，这使得随机过程在重复运行时具有可预测性，有助于调试和复现实验结果。\n"
   ]
  },
  {
   "cell_type": "code",
   "execution_count": null,
   "metadata": {},
   "outputs": [],
   "source": [
    "# 添加随机种子，保证代码可复现\n",
    "random.seed(121)\n",
    "np.random.seed(121)\n",
    "torch.manual_seed(121)\n",
    "torch.cuda.manual_seed(121)"
   ]
  }
 ],
 "metadata": {
  "language_info": {
   "name": "python"
  }
 },
 "nbformat": 4,
 "nbformat_minor": 2
}
