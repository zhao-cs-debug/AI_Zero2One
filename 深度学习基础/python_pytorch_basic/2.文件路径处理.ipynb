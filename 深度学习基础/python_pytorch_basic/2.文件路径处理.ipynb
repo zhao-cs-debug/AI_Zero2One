{
 "cells": [
  {
   "cell_type": "markdown",
   "metadata": {},
   "source": [
    "os模块 与 pathlib模块\n",
    "\n",
    "相同点：\n",
    "pathlib模块 和 os模块 都是 Python用于处理文件和目录路径的模块\n",
    "它们都提供了许多常见的操作，如 ： 获取文件名、扩展名、父目录、绝对路径等\n",
    "\n",
    "区别 1:\n",
    "os 模块 使用函数来操作路径\n",
    "pathlib 模块 使用类来操作路径， 面向对象的设计，更易于使用\n",
    "\n",
    "区别 2:\n",
    "os模块提供了丰富的路径操作功能，但这些功能在不同操作系统之间存在差异，需要进行平台适配。\n",
    "pathlib 模块提供了统一的路径操作接口，适用于所有操作系统（跨平台兼容，适用于Windows、Linux和macOS等操作系统）， 提高了代码可移植性"
   ]
  }
 ],
 "metadata": {
  "language_info": {
   "name": "python"
  }
 },
 "nbformat": 4,
 "nbformat_minor": 2
}
