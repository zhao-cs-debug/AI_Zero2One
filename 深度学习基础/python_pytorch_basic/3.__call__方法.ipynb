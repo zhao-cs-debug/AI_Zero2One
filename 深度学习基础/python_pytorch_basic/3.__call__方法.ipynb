{
 "cells": [
  {
   "cell_type": "markdown",
   "metadata": {},
   "source": [
    "__call__ 是 Python 中的一个魔法方法，也称为类方法。\n",
    "它的作用是将类的实例变成可调用对象，类似于像函数一样被调用。"
   ]
  },
  {
   "cell_type": "code",
   "execution_count": null,
   "metadata": {},
   "outputs": [],
   "source": [
    "# __call__ 使用举例\n",
    "class MyClass:\n",
    "    def __call__(self, x, y):\n",
    "        return x + y\n",
    "\n",
    "\n",
    "obj = MyClass()\n",
    "print(obj(1, 2))"
   ]
  },
  {
   "cell_type": "code",
   "execution_count": null,
   "metadata": {},
   "outputs": [],
   "source": [
    "# 对比其他类/对象的使用\n",
    "class MyClass:\n",
    "    def add(self, x, y):\n",
    "        return x + y\n",
    "\n",
    "\n",
    "obj = MyClass()\n",
    "print(obj.add(1, 2))"
   ]
  },
  {
   "cell_type": "markdown",
   "metadata": {},
   "source": [
    "所以，不用像普通对象调用方法，不用写成 ：obj.__call__(1, 2) ， \n",
    "而是像直接使用函数一样，直接使用 obj(1, 2) 即可"
   ]
  }
 ],
 "metadata": {
  "language_info": {
   "name": "python"
  }
 },
 "nbformat": 4,
 "nbformat_minor": 2
}
