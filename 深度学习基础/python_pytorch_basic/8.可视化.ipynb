{
 "cells": [
  {
   "cell_type": "markdown",
   "metadata": {},
   "source": [
    "注： \n",
    "\n",
    "cv2 可视化图像，要求图像格式为 ：BGR\n",
    "\n",
    "matplotlib 可视化图像，要求图像格式为 ：RGB\n",
    "\n",
    "使用 cv2 读取图像，使用 matplotlib 可视化图像，需要将图像从 BGR 格式转换为 RGB 格式"
   ]
  },
  {
   "cell_type": "code",
   "execution_count": null,
   "metadata": {},
   "outputs": [],
   "source": [
    "import cv2\n",
    "import matplotlib.pyplot as plt\n",
    "\n",
    "# 读取图像\n",
    "image = cv2.imread(\"example_image.jpg\")\n",
    "\n",
    "# 将 BGR 格式转换为 RGB 格式\n",
    "image_rgb = cv2.cvtColor(image, cv2.COLOR_BGR2RGB)\n",
    "\n",
    "# 可视化图像\n",
    "plt.imshow(image_rgb)\n",
    "plt.axis('off')  # 关闭坐标轴\n",
    "plt.show()"
   ]
  }
 ],
 "metadata": {
  "language_info": {
   "name": "python"
  }
 },
 "nbformat": 4,
 "nbformat_minor": 2
}
