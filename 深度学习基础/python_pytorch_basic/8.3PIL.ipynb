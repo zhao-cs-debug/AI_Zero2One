{
 "cells": [
  {
   "cell_type": "markdown",
   "metadata": {},
   "source": [
    "# 1、读取本地图片\n",
    "PIL.Image.open 读取进来的图像，没有shape属性（有 size属性），可以通过 size 查看图像尺寸\n",
    "\n",
    "通过size获取到的尺寸，没有channel信息，只有 width 和 height （注意  width 和 height  的顺序）"
   ]
  },
  {
   "cell_type": "code",
   "execution_count": null,
   "metadata": {},
   "outputs": [],
   "source": [
    "from PIL import Image\n",
    "\n",
    "# 打开图像文件\n",
    "image = Image.open(\"example_image.jpg\")\n",
    "\n",
    "# 获取图像尺寸\n",
    "width, height = image.size\n",
    "print(width, height)  # 640 426"
   ]
  },
  {
   "cell_type": "markdown",
   "metadata": {},
   "source": [
    "# 2、读取网络图片"
   ]
  },
  {
   "cell_type": "code",
   "execution_count": null,
   "metadata": {},
   "outputs": [],
   "source": [
    "from PIL import Image\n",
    "import requests\n",
    "import matplotlib.pyplot as plt\n",
    "\n",
    "url = 'https://farm4.staticflickr.com/3120/2862048068_0cf5eed770_z.jpg'\n",
    "image = Image.open(requests.get(url, stream=True).raw)\n",
    "\n",
    "print(image.width, image.height)  # 640 426\n",
    "\n",
    "plt.axis('off')\n",
    "plt.imshow(image)\n",
    "plt.show()"
   ]
  }
 ],
 "metadata": {
  "language_info": {
   "name": "python"
  }
 },
 "nbformat": 4,
 "nbformat_minor": 2
}
