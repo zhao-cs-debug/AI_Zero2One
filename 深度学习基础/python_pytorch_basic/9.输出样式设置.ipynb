{
 "cells": [
  {
   "cell_type": "markdown",
   "metadata": {},
   "source": [
    "# 进度条tqdm\n",
    "\n",
    "1、tqdm 的基础使用\n",
    "\n",
    "from tqdm import tqdm\n",
    "\n",
    "for item in tqdm(iterable, desc, total, bar_format):\n",
    "        pass\n",
    "\n",
    "仅列举几个常用参数：\n",
    "\n",
    "iterable（可迭代对象）： 必需参数，指定要迭代的对象。\n",
    "\n",
    "desc（描述信息）： 进度条的描述信息\n",
    "\n",
    "total（总数）： 可选参数，指定可迭代对象的总数，用于计算进度百分比。\n",
    "\n",
    "bar_format（进度条格式）： 可选参数，指定自定义进度条的格式字符串。\n",
    "\n",
    "下面是一些常见的 tqdm 格式字符串标记及其含义：\n",
    "\n",
    "{n}: 当前迭代的计数。\n",
    "\n",
    "{total}: 迭代的总数。\n",
    "\n",
    "{percentage}: 当前迭代完成的百分比，以小数形式表示。\n",
    "\n",
    "{bar}: 进度条的主体部分，表示当前进度。\n",
    "\n",
    "{elapsed}: 从开始到当前迭代所经历的时间。\n",
    "\n",
    "{remaining}: 预估剩余时间。\n",
    "\n",
    "{rate}: 每秒钟的迭代速率。\n",
    "\n",
    "{n_fmt}: 当前迭代的计数的格式化字符串，通常与 {total_fmt} 结合使用。\n",
    "\n",
    "{total_fmt}: 迭代的总数的格式化字符串，通常与 {n_fmt} 结合使用。\n",
    "\n",
    "{desc}: 进度条的描述信息。"
   ]
  },
  {
   "cell_type": "code",
   "execution_count": null,
   "metadata": {},
   "outputs": [],
   "source": [
    "# 使用举例1\n",
    "from tqdm import tqdm\n",
    "import time\n",
    "\n",
    "# 定义要迭代的对象\n",
    "items = range(10)\n",
    "\n",
    "# 设置进度条的格式字符串\n",
    "bar_format = \"{desc}: {percentage:.0f}%|{bar}| {n_fmt}/{total_fmt} [{elapsed} elapsed]\"\n",
    "\n",
    "# 在循环中迭代对象\n",
    "for item in tqdm(iterable=items, desc=\"Processing\", total=len(items), bar_format=bar_format):\n",
    "    # 模拟处理每个元素的耗时操作\n",
    "    time.sleep(0.5)"
   ]
  },
  {
   "cell_type": "code",
   "execution_count": null,
   "metadata": {},
   "outputs": [],
   "source": [
    "# 使用举例 2\n",
    "# tqdm(range(i)) 的简约写法 ：trange(i)\n",
    "import time\n",
    "from tqdm import trange\n",
    "\n",
    "for t in trange(100):\n",
    "    time.sleep(0.01)"
   ]
  },
  {
   "cell_type": "markdown",
   "metadata": {},
   "source": [
    "2、手动更新进度条 （ update()方法）"
   ]
  },
  {
   "cell_type": "code",
   "execution_count": null,
   "metadata": {},
   "outputs": [],
   "source": [
    "pbar = tqdm(total=200)\n",
    "\n",
    "for i in range (20):\n",
    "    time.sleep(1)\n",
    "    pbar.update(10)\n",
    "\n",
    "pbar.close()\n",
    "\n",
    "# 如上例子，每次调用 update方法，计数 +10"
   ]
  },
  {
   "cell_type": "markdown",
   "metadata": {},
   "source": [
    "3、实际应用 "
   ]
  },
  {
   "cell_type": "code",
   "execution_count": null,
   "metadata": {},
   "outputs": [],
   "source": [
    "for i, (train_data, train_label) in tqdm(enumerate(train_dataloader), total=len(train_dataloader)):\n",
    "                train_data, train_label = train_data.to(device), train_label.to(device)"
   ]
  },
  {
   "cell_type": "markdown",
   "metadata": {},
   "source": [
    "# 设置文字颜色"
   ]
  },
  {
   "cell_type": "code",
   "execution_count": null,
   "metadata": {},
   "outputs": [],
   "source": [
    "import logging\n",
    "\n",
    "\n",
    "def colorstr(*input):\n",
    "    \"\"\"\n",
    "    Colors a string using ANSI escape codes, e.g., colorstr('blue', 'hello world').\n",
    "    See https://en.wikipedia.org/wiki/ANSI_escape_code.\n",
    "    \"\"\"\n",
    "    *args, string = input if len(input) > 1 else (\"blue\", \"bold\", input[0])  # color arguments, string\n",
    "    colors = {\n",
    "        \"black\": \"\\033[30m\",  # basic colors\n",
    "        \"red\": \"\\033[31m\",\n",
    "        \"green\": \"\\033[32m\",\n",
    "        \"yellow\": \"\\033[33m\",\n",
    "        \"blue\": \"\\033[34m\",\n",
    "        \"magenta\": \"\\033[35m\",\n",
    "        \"cyan\": \"\\033[36m\",\n",
    "        \"white\": \"\\033[37m\",\n",
    "        \"bright_black\": \"\\033[90m\",  # bright colors\n",
    "        \"bright_red\": \"\\033[91m\",\n",
    "        \"bright_green\": \"\\033[92m\",\n",
    "        \"bright_yellow\": \"\\033[93m\",\n",
    "        \"bright_blue\": \"\\033[94m\",\n",
    "        \"bright_magenta\": \"\\033[95m\",\n",
    "        \"bright_cyan\": \"\\033[96m\",\n",
    "        \"bright_white\": \"\\033[97m\",\n",
    "        \"end\": \"\\033[0m\",  # misc\n",
    "        \"bold\": \"\\033[1m\",\n",
    "        \"underline\": \"\\033[4m\",\n",
    "    }\n",
    "    return \"\".join(colors[x] for x in args) + f\"{string}\" + colors[\"end\"]\n",
    "\n",
    "\n",
    "logging.basicConfig(level=logging.INFO)\n",
    "logging.info(colorstr('调试日志'))\n",
    "logging.info(colorstr('bright_yellow', '调试日志'))\n",
    "logging.info(colorstr('underline', 'cyan', '调试日志'))"
   ]
  }
 ],
 "metadata": {
  "language_info": {
   "name": "python"
  }
 },
 "nbformat": 4,
 "nbformat_minor": 2
}
