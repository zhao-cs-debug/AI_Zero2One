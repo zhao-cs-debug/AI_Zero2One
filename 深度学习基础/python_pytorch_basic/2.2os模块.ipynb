{
 "cells": [
  {
   "cell_type": "markdown",
   "metadata": {},
   "source": [
    "# OS模块\n",
    "## 1、路径操作 os.path"
   ]
  },
  {
   "cell_type": "code",
   "execution_count": null,
   "metadata": {},
   "outputs": [],
   "source": [
    "# 1）组合路径\n",
    "# os.path.join(path1， path2， ...):  将多个路径组合成一个路径。它会根据你的操作系统规范，使用适当的路径分隔符\n",
    "import os\n",
    "\n",
    "path = os.path.join(\"folder\", \"subfolder\", \"file.txt\")\n",
    "print(path)   # folder/subfolder/file.txt"
   ]
  },
  {
   "cell_type": "code",
   "execution_count": null,
   "metadata": {},
   "outputs": [],
   "source": [
    "# 2）获取绝对路径\n",
    "# os.path.abspath(path): 返回指定路径的绝对路径\n",
    "import os\n",
    "\n",
    "absolute_path = os.path.abspath(\"relative_path/file.txt\")\n",
    "print(absolute_path)   # /Users/enzo/Documents/relative_path/file.txt"
   ]
  },
  {
   "cell_type": "code",
   "execution_count": null,
   "metadata": {},
   "outputs": [],
   "source": [
    "# 3）获取文件名\n",
    "# os.path.basename(path): 返回路径中的文件名\n",
    "import os\n",
    "\n",
    "filename = os.path.basename(\"/path/to/file.txt\")\n",
    "print(filename)   # file.txt"
   ]
  },
  {
   "cell_type": "code",
   "execution_count": null,
   "metadata": {},
   "outputs": [],
   "source": [
    "# 4）获取目录路径\n",
    "# os.path.dirname(path): 返回路径中的目录部分\n",
    "import os\n",
    "\n",
    "directory = os.path.dirname(\"/path/to/file.txt\")\n",
    "print(directory)   # /path/to"
   ]
  },
  {
   "cell_type": "code",
   "execution_count": null,
   "metadata": {},
   "outputs": [],
   "source": [
    "# 5）文件/文件夹 是否存在\n",
    "# os.path.exists(path):  判断路径(文件/文件夹) 是否存在\n",
    "import os\n",
    "\n",
    "if os.path.exists(\"/path/to/file.txt\"):\n",
    "    print(\"File exists!\")"
   ]
  },
  {
   "cell_type": "code",
   "execution_count": null,
   "metadata": {},
   "outputs": [],
   "source": [
    "# 6）分离文件名和扩展名\n",
    "# os.path.splitext(path):  分离文件名和扩展名，返回一个包含 路径和文件扩展名 的元组\n",
    "import os\n",
    "\n",
    "filename, extension = os.path.splitext(\"/path/to/file.txt\")\n",
    "print(filename)   # /path/to/file\n",
    "print(extension)   # .txt"
   ]
  },
  {
   "cell_type": "markdown",
   "metadata": {},
   "source": [
    "## 2、目录操作"
   ]
  },
  {
   "cell_type": "code",
   "execution_count": null,
   "metadata": {},
   "outputs": [],
   "source": [
    "# 1）创建目录\n",
    "# os.mkdir(path): 创建单级目录。如果目录已经存在，则抛出 FileExistsError\n",
    "# os.makedirs(path): 创建多级目录。递归地创建整个路径中缺失的目录\n",
    "import os\n",
    "\n",
    "os.mkdir(\"new_directory\")\n",
    "os.makedirs(\"nested/directory/structure\")"
   ]
  },
  {
   "cell_type": "code",
   "execution_count": null,
   "metadata": {},
   "outputs": [],
   "source": [
    "# 2）删除目录\n",
    "# os.rmdir(path): 删除单级目录。如果目录非空，抛出 OSError。\n",
    "# os.removedirs(path): 递归删除多级目录，从最深层的空目录逐级删除。\n",
    "import os\n",
    "\n",
    "os.rmdir(\"old_directory\")\n",
    "os.removedirs(\"nested/directory/structure\")"
   ]
  },
  {
   "cell_type": "code",
   "execution_count": null,
   "metadata": {},
   "outputs": [],
   "source": [
    "# 3）获取目录内容\n",
    "# os.listdir(path): 返回指定目录中的文件和子目录列表。\n",
    "import os\n",
    "\n",
    "contents = os.listdir(\"some_directory\")\n",
    "print(contents)"
   ]
  },
  {
   "cell_type": "code",
   "execution_count": null,
   "metadata": {},
   "outputs": [],
   "source": [
    "# 4）是否是一个目录\n",
    "# os.path.isdir(path):  判断路径是否是一个目录\n",
    "import os\n",
    "\n",
    "if os.path.isdir(\"/path/to/folder\"):\n",
    "    print(\"It's a directory!\")"
   ]
  },
  {
   "cell_type": "code",
   "execution_count": null,
   "metadata": {},
   "outputs": [],
   "source": [
    "# 5）切换当前工作目录\n",
    "# os.chdir(path): 切换当前工作目录到指定的路径。\n",
    "import os\n",
    "os.chdir(\"/path/to/new/directory\")"
   ]
  },
  {
   "cell_type": "markdown",
   "metadata": {},
   "source": [
    "## 3、文件操作"
   ]
  },
  {
   "cell_type": "code",
   "execution_count": null,
   "metadata": {},
   "outputs": [],
   "source": [
    "# 1）文件重命名\n",
    "# os.rename(src, dst): 重命名文件或目录\n",
    "import os\n",
    "os.rename(\"old_file.txt\", \"new_file.txt\")"
   ]
  },
  {
   "cell_type": "code",
   "execution_count": null,
   "metadata": {},
   "outputs": [],
   "source": [
    "# 2）删除文件\n",
    "# os.remove(path): 删除文件。\n",
    "import os\n",
    "os.remove(\"file_to_delete.txt\")"
   ]
  },
  {
   "cell_type": "code",
   "execution_count": null,
   "metadata": {},
   "outputs": [],
   "source": [
    "# 3）获取文件信息\n",
    "# os.stat(path): 返回指定路径的文件信息。\n",
    "import os\n",
    "\n",
    "file_info = os.stat(\"some_file.txt\")\n",
    "\n",
    "print(file_info)\n",
    "# os.stat_result(st_mode=33188, st_ino=37549638, st_dev=16777221, st_nlink=1, st_uid=501, st_gid=20, st_size=58, st_atime=1703156042, st_mtime=1703156042, st_ctime=1703156042)\n",
    "\n",
    "print(f\"Last modified time: {file_info.st_mtime}\")\n",
    "# Last modified time: 1703156131.2549608"
   ]
  },
  {
   "cell_type": "code",
   "execution_count": null,
   "metadata": {},
   "outputs": [],
   "source": [
    "# 4）是否是一个文件\n",
    "# os.path.isfile(path):  判断路径是否是一个文件\n",
    "import os\n",
    "\n",
    "if os.path.isfile(\"/path/to/file.txt\"):\n",
    "    print(\"It's a file!\")"
   ]
  }
 ],
 "metadata": {
  "language_info": {
   "name": "python"
  }
 },
 "nbformat": 4,
 "nbformat_minor": 2
}
