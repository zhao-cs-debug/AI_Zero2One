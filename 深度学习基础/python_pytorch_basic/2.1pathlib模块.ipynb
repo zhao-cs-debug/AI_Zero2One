{
 "cells": [
  {
   "cell_type": "markdown",
   "metadata": {},
   "source": [
    "# pathlib模块\n",
    "pathlib模块是Python标准库的一部分。它在Python 3.4版本中首次引入，提供了一种面向对象的文件系统路径表示方式。"
   ]
  },
  {
   "cell_type": "code",
   "execution_count": null,
   "metadata": {},
   "outputs": [],
   "source": [
    "# 1、获取路径、拼接路径\n",
    "from pathlib import Path\n",
    "\n",
    "# 获取home路径\n",
    "print(Path.home())  # /Users/enzo\n",
    "\n",
    "# 获取当前工作路径\n",
    "print(Path.cwd())  # /Users/enzo/Documents\n",
    "\n",
    "# 拼接路径\n",
    "file_path = Path.cwd() / \"test.py\"\n",
    "print(file_path)   # /Users/enzo/Documents/test.py"
   ]
  },
  {
   "cell_type": "code",
   "execution_count": null,
   "metadata": {},
   "outputs": [],
   "source": [
    "# 2、常用属性\n",
    "\n",
    "from pathlib import Path\n",
    "\n",
    "# 生成路径对象\n",
    "path = Path(\"/users/enzo/Documents/test.py\")\n",
    "print(path)  # /users/enzo/Documents/test.py\n",
    "print(path.name)  # test.py\n",
    "print(path.stem)  # test\n",
    "print(path.suffix)  # .py\n",
    "print(path.anchor)  # /\n",
    "print(path.parent)  # /users/enzo/Documents\n",
    "print(path.parent.parent)  # /users/enzo\n",
    "\n",
    "from pathlib import Path\n",
    "\n",
    "# 获取当前脚本所在的目录路径\n",
    "print(__file__)  # /Users/enzo/Documents/test.py\n",
    "\n",
    "# 获取当前脚本所在的目录路径, 并生成路径对象\n",
    "FILE = Path(__file__)\n",
    "print(FILE)  # PosixPath('/Users/enzo/Documents/test.py')"
   ]
  },
  {
   "cell_type": "code",
   "execution_count": null,
   "metadata": {},
   "outputs": [],
   "source": [
    "# 3、获取绝对路径  .resolve()\n",
    "from pathlib import Path\n",
    "\n",
    "# 生成路径对象\n",
    "path = Path(\"test.py\")\n",
    "\n",
    "print(path)  # 输出 ：test.py\n",
    "print(path.resolve()) # 输出 ：/Users/enzo/Documents/test.py"
   ]
  },
  {
   "cell_type": "code",
   "execution_count": null,
   "metadata": {},
   "outputs": [],
   "source": [
    "# 4、获取相对路径  .relative_to()\n",
    "from pathlib import Path\n",
    "\n",
    "ROOT = \"/Users/enzo/Documents\"\n",
    "path = Path(\"/Users/enzo/Documents/test.py\")\n",
    "print(path.relative_to(ROOT))   # 输出 ： test.py"
   ]
  },
  {
   "cell_type": "code",
   "execution_count": null,
   "metadata": {},
   "outputs": [],
   "source": [
    "# 5、检查文件是否存在  .exists()\n",
    "from pathlib import Path\n",
    "\n",
    "filename = Path(\"/users/enzo/Documents/test.py\")\n",
    "print(filename.exists())"
   ]
  },
  {
   "cell_type": "code",
   "execution_count": null,
   "metadata": {},
   "outputs": [],
   "source": [
    "# 6、更改文件后缀名 .with_suffix()\n",
    "from pathlib import Path\n",
    "\n",
    "file_path = Path(\"file.txt\")\n",
    "new_path = file_path.with_suffix(\".yaml\")\n",
    "print(new_path)  # 输出: file.yaml"
   ]
  },
  {
   "cell_type": "code",
   "execution_count": null,
   "metadata": {},
   "outputs": [],
   "source": [
    "# 7、创建文件  .touch()\n",
    "from pathlib import Path\n",
    "\n",
    "filename = Path(\"/users/enzo/Documents/demo.py\")\n",
    "if not filename.exists():\n",
    "    filename.touch()"
   ]
  },
  {
   "cell_type": "code",
   "execution_count": null,
   "metadata": {},
   "outputs": [],
   "source": [
    "# 8、创建目录 .mkdir()\n",
    "import pathlib\n",
    "\n",
    "# 创建目录\n",
    "pathlib.Path(\"my_dir\").mkdir()\n",
    "\n",
    "# 创建父目录\n",
    "pathlib.Path(\"my_dir/sub_dir\").mkdir(parents=True)\n",
    "\n",
    "# 即使目录已存在，也继续创建\n",
    "pathlib.Path(\"my_dir\").mkdir(exist_ok=True)\n",
    "\n",
    "# 参数 ：\n",
    "# path：要创建的目录的路径。可以是字符串 或 Path 对象\n",
    "# parents：是否创建父目录，默认为 False。如果为 True，则会在创建目标目录之前创建所有必需的父目录。\n",
    "# exist_ok：如果目录已存在，是否继续创建\n",
    "# 若设置为 True，则在目录已经存在的情况下不会引发异常，会忽略这个操作并继续执行后续代码。\n",
    "# 若设置为 False（默认值），则在目录已经存在的情况下引发 FileExistsError 异常。"
   ]
  },
  {
   "cell_type": "markdown",
   "metadata": {},
   "source": [
    "示例详解：\n",
    "\n",
    "第一个示例：创建一个名为 my_dir 的目录\n",
    "\n",
    "第二个示例：创建一个名为 \"my_dir/sub_dir\" 的目录，如果 my_dir 目录不存在，则会先创建 my_dir 目录，再在 my_dir 目录下创建 \"sub_dir\"\n",
    "\n",
    "第三个示例：若 my_dir 目录不存在，则创建 my_dir 目录。 若已存在，也不会抛出异常，继续使用已经存在的 my_dir 目录，原目录中的内容，不会有变动。"
   ]
  }
 ],
 "metadata": {
  "kernelspec": {
   "display_name": "transformers",
   "language": "python",
   "name": "python3"
  },
  "language_info": {
   "codemirror_mode": {
    "name": "ipython",
    "version": 3
   },
   "file_extension": ".py",
   "mimetype": "text/x-python",
   "name": "python",
   "nbconvert_exporter": "python",
   "pygments_lexer": "ipython3",
   "version": "3.9.18"
  }
 },
 "nbformat": 4,
 "nbformat_minor": 2
}
